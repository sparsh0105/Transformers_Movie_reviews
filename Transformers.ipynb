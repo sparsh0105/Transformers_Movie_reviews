{
 "cells": [
  {
   "cell_type": "markdown",
   "id": "d98fa9e4-7669-4f9b-a789-cfd798349ab8",
   "metadata": {},
   "source": [
    "## **Problem Statement**\n",
    "\n",
    "In the fast-evolving landscape of the entertainment industry, it is important to gauge audience sentiments towards movie releases. Understanding the sentiments expressed in movie reviews is crucial for shaping marketing strategies, refining content creation, and ultimately enhancing the overall viewer experience. However, manually analyzing an extensive volume of reviews is time-consuming and may not capture nuanced sentiments at scale. To address this, we aim to develop an ML-based sentiment analyzer that automatically evaluates movie reviews, providing actionable insights into audience perceptions.\n",
    "\n",
    "- **review:** review of a movie\n",
    "- **sentiment:** indicates the sentiment of the review ( 0 is for negative review and 1 for positive review)"
   ]
  },
  {
   "cell_type": "code",
   "execution_count": 1,
   "id": "a746cc2f-6261-47ff-b37c-94f75d0e916d",
   "metadata": {},
   "outputs": [
    {
     "name": "stderr",
     "output_type": "stream",
     "text": [
      "C:\\Users\\ASUS\\AppData\\Local\\Programs\\Python\\Python312\\Lib\\site-packages\\tqdm\\auto.py:21: TqdmWarning: IProgress not found. Please update jupyter and ipywidgets. See https://ipywidgets.readthedocs.io/en/stable/user_install.html\n",
      "  from .autonotebook import tqdm as notebook_tqdm\n"
     ]
    }
   ],
   "source": [
    "# to read and manipulate the data\n",
    "import pandas as pd\n",
    "import numpy as np\n",
    "pd.set_option('max_colwidth', None)    # setting column to the maximum column width as per the data\n",
    "\n",
    "# to visualise data\n",
    "import matplotlib.pyplot as plt\n",
    "import seaborn as sns\n",
    "\n",
    "# Deep Learning library\n",
    "import torch\n",
    "\n",
    "# to load transformer models\n",
    "from sentence_transformers import SentenceTransformer   # to transform sentence into sentence embeddings \n",
    "from transformers import T5Tokenizer, T5ForConditionalGeneration, pipeline    # package for hugging face is called transformers it allows us to download and use other people's neural netwroks\n",
    "\n",
    "# to split the data\n",
    "from sklearn.model_selection import train_test_split\n",
    "\n",
    "# to compute performance metrics\n",
    "from sklearn.metrics import confusion_matrix, classification_report, accuracy_score\n",
    "\n",
    "# To build a Random Forest model\n",
    "from sklearn.ensemble import RandomForestClassifier\n",
    "\n",
    "\n",
    "# to ignore unnecessary warnings\n",
    "import warnings\n",
    "warnings.filterwarnings(\"ignore\")"
   ]
  },
  {
   "cell_type": "code",
   "execution_count": 2,
   "id": "093c0d89-c34e-4201-bb83-92d309b7757e",
   "metadata": {},
   "outputs": [
    {
     "data": {
      "text/html": [
       "<div>\n",
       "<style scoped>\n",
       "    .dataframe tbody tr th:only-of-type {\n",
       "        vertical-align: middle;\n",
       "    }\n",
       "\n",
       "    .dataframe tbody tr th {\n",
       "        vertical-align: top;\n",
       "    }\n",
       "\n",
       "    .dataframe thead th {\n",
       "        text-align: right;\n",
       "    }\n",
       "</style>\n",
       "<table border=\"1\" class=\"dataframe\">\n",
       "  <thead>\n",
       "    <tr style=\"text-align: right;\">\n",
       "      <th></th>\n",
       "      <th>review</th>\n",
       "      <th>sentiment</th>\n",
       "    </tr>\n",
       "  </thead>\n",
       "  <tbody>\n",
       "    <tr>\n",
       "      <th>0</th>\n",
       "      <td>Okay, I know this does'nt project India in a good light. But the overall theme of the movie is not India, it's Shakti. The power of a warlord, and the power of a mother. The relationship between Nandini and her husband and son swallow you up in their warmth. Then things go terribly wrong. The interaction between Nandini and her father in law - the power of their dysfunctional relationship - and the lives changed by it are the strengths of this movie. Shah Rukh Khan's performance seems to be a mere cameo compared to the believable desperation of Karisma Kapoor. It is easy to get caught up in the love, violence and redemption of lives in this film, and find yourself heaving a sigh of relief and sadness at the climax. The musical interludes are strengths, believable and well done.</td>\n",
       "      <td>1</td>\n",
       "    </tr>\n",
       "    <tr>\n",
       "      <th>1</th>\n",
       "      <td>Despite John Travolta's statements in interviews that this was his favorite role of his career, \"Be Cool\" proves to be a disappointing sequel to 1995's witty and clever \"Get Shorty.\"&lt;br /&gt;&lt;br /&gt;Travolta delivers a pleasant enough performance in this mildly entertaining film, but ultimately the movie falls flat due to an underdeveloped plot, unlikeable characters, and a surprising lack of chemistry between leads Travolta and Uma Thurman. Although there are some laughs, this unfunny dialog example (which appeared frequently in the trailers) kind of says it all: Thurman: Do you dance? Travolta: Hey, I'm from Brooklyn.&lt;br /&gt;&lt;br /&gt;The film suggests that everyone in the entertainment business is a gangster or aspires to be one, likening it to organized crime. In \"Get Shorty,\" the premise of a gangster \"going legitimate\" by getting into movies was a clever fish-out-of water idea, but in \"Be Cool,\" it seems the biz has entirely gone crooked since then.&lt;br /&gt;&lt;br /&gt;The film is interestingly casted and the absolute highlight is a \"monolgue\" delivered by The Rock, whose character is an aspiring actor as well as a goon, where he reenacts a scene between Gabrielle Union and Kirsten Dunst from \"Bring It On.\" Vince Vaughan's character thinks he's black and he's often seen dressed as a pimp-- this was quite funny in the first scene that introduces him and gets tired and embarrassing almost immediately afterward.&lt;br /&gt;&lt;br /&gt;Overall, \"Be Cool\" may be worth a rental for John Travolta die-hards (of which I am one), but you may want to keep your finger close to the fast forward button to get through it without feeling that you wasted too much time. Fans of \"Get Shorty\" may actually wish to avoid this, as the sequel is devoid of most things that made that one a winner. I rate this movie an admittedly harsh 4/10.</td>\n",
       "      <td>0</td>\n",
       "    </tr>\n",
       "    <tr>\n",
       "      <th>2</th>\n",
       "      <td>I am a kung fu fan, but not a Woo fan. I have no interest in gangster movies filled with over-the-top gun-play. Now, martial arts; *that's* beautiful! And John Woo surprised me here by producing a highly entertaining kung fu movie, which almost has *too much* fighting, if such a thing is possible! This is good stuff.&lt;br /&gt;&lt;br /&gt;Many of the fight scenes are very good (and some of them are less good), and the main characters are amusing and likable. The bad guys are a bit too unbelievably evil, but entertaining none the less. You gotta see the Sleeping Wizard!! He can only fight when he's asleep - it's hysterical!&lt;br /&gt;&lt;br /&gt;Upon repeated viewings, however, Last Hurrah For Chivalry can tend to get a little boring and long-winded, also especially because many of the fight scenes are actually not that good. Hence, I rate it \"only\" a 7 out of 10. But it really is almost an \"8\".&lt;br /&gt;&lt;br /&gt;All in all one of the better kung fu movies, made smack-dab in the heart of kung fu cinema's prime. All the really good kung fu movies are from the mid- to late 1970ies, with some notable exceptions from the late '60ies and early '70ies (and early '80ies, to be fair).</td>\n",
       "      <td>1</td>\n",
       "    </tr>\n",
       "    <tr>\n",
       "      <th>3</th>\n",
       "      <td>He seems to be a control freak. I have heard him comment on \"losing control of the show\" and tell another guest who brought live animals that he had one rule-\"no snakes.\" He needs to hire a comedy writer because his jokes are lame. The only reason I watch him is because he some some great guests and bands. &lt;br /&gt;&lt;br /&gt;I watched the Craig Ferguson show for a while but his show is even worse. He likes to bull sh** to burn time.I don't think either man has much of a future in late night talk shows.&lt;br /&gt;&lt;br /&gt;Daily also has the annoying habit of sticking his tongue out to lick his lips. He must do this at least 10 times a show. I do like the Joe Firstman band. Carson Daily needs to lighten up before it is too late.</td>\n",
       "      <td>0</td>\n",
       "    </tr>\n",
       "    <tr>\n",
       "      <th>4</th>\n",
       "      <td>Admittedly, there are some scenes in this movie that seem a little unrealistic. The ravishing woman first panics and then, only a few minutes later, she starts kissing the young lad while the old guy is right next to her. But as the film goes along we learn that she is a little volatile girl (or slut) and that partly explains her behavior. The cinematography of this movie is well done. We get to see the elevator from almost every angle and perspective, and some of those images and scenes really raise the tension. Götz George plays his character well, a wannabe hot-shot getting old and being overpowered by young men like the Jaennicke character. Wolfgang Kieling who I admired in Hitchcock's THE TORN CURTAIN delivers a great performance that, although he doesn't say much, he is by far the best actor in this play. One critic complained about how unrealistic the film was and that in a real case of emergency nothing would really happen. But then again, how realistic are films such as Mission impossible or Phone Booth. Given the fact that we are talking about a movie here, and that in a movie you always have to deal with some scenes that aren't very likely to occur in real life, you can still enjoy this movie. It's a lot better than many things that I see on German TV these days and I think that the vintage 80's style added something to this film.</td>\n",
       "      <td>1</td>\n",
       "    </tr>\n",
       "  </tbody>\n",
       "</table>\n",
       "</div>"
      ],
      "text/plain": [
       "                                                                                                                                                                                                                                                                                                                                                                                                                                                                                                                                                                                                                                                                                                                                                                                                                                                                                                                                                                                                                                                                                                                                                                                                                                                                                                                                                                                                                                                                                                                                                                                                                                                                                                                                                                                                                                                                                         review  \\\n",
       "0                                                                                                                                                                                                                                                                                                                                                                                                                                                                                                                                                                                                                                                                                                                                                                                                                                                                                                                                                                                                                                                                          Okay, I know this does'nt project India in a good light. But the overall theme of the movie is not India, it's Shakti. The power of a warlord, and the power of a mother. The relationship between Nandini and her husband and son swallow you up in their warmth. Then things go terribly wrong. The interaction between Nandini and her father in law - the power of their dysfunctional relationship - and the lives changed by it are the strengths of this movie. Shah Rukh Khan's performance seems to be a mere cameo compared to the believable desperation of Karisma Kapoor. It is easy to get caught up in the love, violence and redemption of lives in this film, and find yourself heaving a sigh of relief and sadness at the climax. The musical interludes are strengths, believable and well done.   \n",
       "1  Despite John Travolta's statements in interviews that this was his favorite role of his career, \"Be Cool\" proves to be a disappointing sequel to 1995's witty and clever \"Get Shorty.\"<br /><br />Travolta delivers a pleasant enough performance in this mildly entertaining film, but ultimately the movie falls flat due to an underdeveloped plot, unlikeable characters, and a surprising lack of chemistry between leads Travolta and Uma Thurman. Although there are some laughs, this unfunny dialog example (which appeared frequently in the trailers) kind of says it all: Thurman: Do you dance? Travolta: Hey, I'm from Brooklyn.<br /><br />The film suggests that everyone in the entertainment business is a gangster or aspires to be one, likening it to organized crime. In \"Get Shorty,\" the premise of a gangster \"going legitimate\" by getting into movies was a clever fish-out-of water idea, but in \"Be Cool,\" it seems the biz has entirely gone crooked since then.<br /><br />The film is interestingly casted and the absolute highlight is a \"monolgue\" delivered by The Rock, whose character is an aspiring actor as well as a goon, where he reenacts a scene between Gabrielle Union and Kirsten Dunst from \"Bring It On.\" Vince Vaughan's character thinks he's black and he's often seen dressed as a pimp-- this was quite funny in the first scene that introduces him and gets tired and embarrassing almost immediately afterward.<br /><br />Overall, \"Be Cool\" may be worth a rental for John Travolta die-hards (of which I am one), but you may want to keep your finger close to the fast forward button to get through it without feeling that you wasted too much time. Fans of \"Get Shorty\" may actually wish to avoid this, as the sequel is devoid of most things that made that one a winner. I rate this movie an admittedly harsh 4/10.   \n",
       "2                                                                                                                                                                                                                                                                                                                                                                                                                                                                                                                                                                                                                                                                                 I am a kung fu fan, but not a Woo fan. I have no interest in gangster movies filled with over-the-top gun-play. Now, martial arts; *that's* beautiful! And John Woo surprised me here by producing a highly entertaining kung fu movie, which almost has *too much* fighting, if such a thing is possible! This is good stuff.<br /><br />Many of the fight scenes are very good (and some of them are less good), and the main characters are amusing and likable. The bad guys are a bit too unbelievably evil, but entertaining none the less. You gotta see the Sleeping Wizard!! He can only fight when he's asleep - it's hysterical!<br /><br />Upon repeated viewings, however, Last Hurrah For Chivalry can tend to get a little boring and long-winded, also especially because many of the fight scenes are actually not that good. Hence, I rate it \"only\" a 7 out of 10. But it really is almost an \"8\".<br /><br />All in all one of the better kung fu movies, made smack-dab in the heart of kung fu cinema's prime. All the really good kung fu movies are from the mid- to late 1970ies, with some notable exceptions from the late '60ies and early '70ies (and early '80ies, to be fair).   \n",
       "3                                                                                                                                                                                                                                                                                                                                                                                                                                                                                                                                                                                                                                                                                                                                                                                                                                                                                                                                                                                                                                                                                                                                             He seems to be a control freak. I have heard him comment on \"losing control of the show\" and tell another guest who brought live animals that he had one rule-\"no snakes.\" He needs to hire a comedy writer because his jokes are lame. The only reason I watch him is because he some some great guests and bands. <br /><br />I watched the Craig Ferguson show for a while but his show is even worse. He likes to bull sh** to burn time.I don't think either man has much of a future in late night talk shows.<br /><br />Daily also has the annoying habit of sticking his tongue out to lick his lips. He must do this at least 10 times a show. I do like the Joe Firstman band. Carson Daily needs to lighten up before it is too late.   \n",
       "4                                                                                                                                                                                                                                                                                                                                                                                                                                                                           Admittedly, there are some scenes in this movie that seem a little unrealistic. The ravishing woman first panics and then, only a few minutes later, she starts kissing the young lad while the old guy is right next to her. But as the film goes along we learn that she is a little volatile girl (or slut) and that partly explains her behavior. The cinematography of this movie is well done. We get to see the elevator from almost every angle and perspective, and some of those images and scenes really raise the tension. Götz George plays his character well, a wannabe hot-shot getting old and being overpowered by young men like the Jaennicke character. Wolfgang Kieling who I admired in Hitchcock's THE TORN CURTAIN delivers a great performance that, although he doesn't say much, he is by far the best actor in this play. One critic complained about how unrealistic the film was and that in a real case of emergency nothing would really happen. But then again, how realistic are films such as Mission impossible or Phone Booth. Given the fact that we are talking about a movie here, and that in a movie you always have to deal with some scenes that aren't very likely to occur in real life, you can still enjoy this movie. It's a lot better than many things that I see on German TV these days and I think that the vintage 80's style added something to this film.   \n",
       "\n",
       "   sentiment  \n",
       "0          1  \n",
       "1          0  \n",
       "2          1  \n",
       "3          0  \n",
       "4          1  "
      ]
     },
     "execution_count": 2,
     "metadata": {},
     "output_type": "execute_result"
    }
   ],
   "source": [
    "data = pd.read_csv('sentiment_review.csv')\n",
    "data.head()"
   ]
  },
  {
   "cell_type": "markdown",
   "id": "2d6c0310-5043-446a-92e3-68942d444f78",
   "metadata": {},
   "source": [
    "* Here, a sentiment value of **0 is negative** and **1 is positive**."
   ]
  },
  {
   "cell_type": "code",
   "execution_count": 3,
   "id": "a5312350-ca97-4b2e-9280-29b7e09fdaa4",
   "metadata": {},
   "outputs": [
    {
     "data": {
      "text/plain": [
       "review       0\n",
       "sentiment    0\n",
       "dtype: int64"
      ]
     },
     "execution_count": 3,
     "metadata": {},
     "output_type": "execute_result"
    }
   ],
   "source": [
    "data.isna().sum()"
   ]
  },
  {
   "cell_type": "code",
   "execution_count": 4,
   "id": "2f85d68a-06ae-4fbe-add2-8f76cfd00f1c",
   "metadata": {},
   "outputs": [
    {
     "data": {
      "text/plain": [
       "18"
      ]
     },
     "execution_count": 4,
     "metadata": {},
     "output_type": "execute_result"
    }
   ],
   "source": [
    "data.duplicated().sum()"
   ]
  },
  {
   "cell_type": "code",
   "execution_count": 5,
   "id": "c7273a41-e196-41ee-8214-2a6a30f5dde0",
   "metadata": {},
   "outputs": [],
   "source": [
    "data = data.drop_duplicates(keep = 'first')\n",
    "data = data.reset_index(drop = True)"
   ]
  },
  {
   "cell_type": "code",
   "execution_count": 6,
   "id": "4fee2092-662e-40ec-b55b-0fd3f8527aea",
   "metadata": {},
   "outputs": [
    {
     "data": {
      "text/plain": [
       "<Axes: xlabel='sentiment', ylabel='count'>"
      ]
     },
     "execution_count": 6,
     "metadata": {},
     "output_type": "execute_result"
    },
    {
     "data": {
      "image/png": "[encoded data removed]",
      "text/plain": [
       "<Figure size 640x480 with 1 Axes>"
      ]
     },
     "metadata": {},
     "output_type": "display_data"
    }
   ],
   "source": [
    "sns.countplot(data = data , x = 'sentiment' , palette = 'pastel')"
   ]
  },
  {
   "cell_type": "markdown",
   "id": "3d101eef-4e96-43f5-9029-93496ae3e557",
   "metadata": {},
   "source": [
    "- There are almost an equal number of positive and negative reviews.\n",
    "- \n",
    "**There is no data imbalance**"
   ]
  },
  {
   "cell_type": "markdown",
   "id": "b5f263d8-91dd-4a6b-a087-5c9f8a003226",
   "metadata": {},
   "source": [
    "# **Semantic Search**"
   ]
  },
  {
   "cell_type": "markdown",
   "id": "6a72f95b-6c3c-40fe-9da9-7fad616832c3",
   "metadata": {},
   "source": [
    "## **Defining the model**\n",
    "\n",
    "We'll be using the **all-MiniLM-L6-v2** model here.\n",
    "\n",
    "💡 The **all-MiniLM-L6-v2** model is an all-round (**all**) model trained on a large and diverse dataset of over 1 billion training samples and generates state-of-the-art sentence embeddings of 384 dimensions.\n",
    "\n",
    "📊  It is a language model (**LM**) that has 6 transformer encoder layers (**L6**) and is a smaller model (**Mini**) trained to mimic the performance of a larger model (BERT).\n",
    "\n",
    "🛠️ Potential use-cases include text classification, sentiment analysis, and semantic search.\n",
    "\n",
    "training samples refers to two sentences as a pair and a categorization of similar or not similar "
   ]
  },
  {
   "cell_type": "code",
   "execution_count": 7,
   "id": "915d9985-5820-45df-97f3-587ff4f84173",
   "metadata": {},
   "outputs": [],
   "source": [
    "# defining the model\n",
    "model = SentenceTransformer('sentence-transformers/all-MiniLM-L6-v2')"
   ]
  },
  {
   "cell_type": "markdown",
   "id": "7e65f548-50c7-4f5b-a513-7e6bf39d53bc",
   "metadata": {},
   "source": [
    "- there are many other models to choose from too!\n",
    "- https://www.sbert.net/docs/pretrained_models.html\n",
    "- https://huggingface.co/spaces/mteb/leaderboard\n",
    "- model = SentenceTransformer('BAAI/bge-base-en-v1.5')"
   ]
  },
  {
   "cell_type": "markdown",
   "id": "0c0bb94b-1973-4254-81b7-e7edb51214f3",
   "metadata": {},
   "source": [
    "## **Basic Examples**"
   ]
  },
  {
   "cell_type": "code",
   "execution_count": 8,
   "id": "9c8e0aa8-50e0-4301-adb1-b6afea9a4b89",
   "metadata": {},
   "outputs": [
    {
     "data": {
      "text/plain": [
       "array([[-7.63789341e-02, -3.46019268e-02,  2.81814318e-02,\n",
       "         2.60171369e-02, -1.12401642e-01, -6.56800494e-02,\n",
       "         1.05019473e-01, -4.91613448e-02, -1.32024242e-02,\n",
       "        -4.02145386e-02, -3.06905396e-02, -6.59567863e-02,\n",
       "         3.87539491e-02,  2.87568253e-02, -2.82398574e-02,\n",
       "        -3.12833749e-02,  2.18625460e-02, -1.51858311e-02,\n",
       "         9.84577555e-03, -9.71754733e-03, -6.44154176e-02,\n",
       "         5.22475783e-03, -6.68814927e-02, -1.68438535e-02,\n",
       "        -5.71778938e-02, -5.65784648e-02, -4.20541316e-02,\n",
       "         8.45702887e-02, -6.76952824e-02, -1.05175219e-01,\n",
       "         7.60104880e-02,  5.10808453e-03, -2.45320797e-02,\n",
       "         6.20696992e-02,  4.55954410e-02,  5.43934815e-02,\n",
       "        -5.97802252e-02,  5.06567257e-03, -3.48678604e-03,\n",
       "         5.68431877e-02, -3.39885950e-02, -7.81711712e-02,\n",
       "        -4.98252288e-02, -4.48917113e-02,  3.32635604e-02,\n",
       "         9.28130001e-02,  2.49645263e-02,  3.81169468e-02,\n",
       "         9.19575468e-02,  7.75857419e-02, -9.99005437e-02,\n",
       "        -3.73247713e-02,  2.81148423e-02,  3.65901068e-02,\n",
       "         8.26865807e-02, -4.56624217e-02,  1.95156932e-02,\n",
       "        -3.40457424e-03, -3.61530483e-02, -1.43054239e-02,\n",
       "        -9.47309807e-02,  2.85655521e-02, -9.51068848e-02,\n",
       "         2.26827599e-02, -5.73335253e-02, -6.35521263e-02,\n",
       "         9.21478681e-03, -9.81808733e-03,  6.36770343e-03,\n",
       "         3.37146260e-02, -7.08295638e-03, -1.66083835e-02,\n",
       "         5.62122324e-03,  1.28591119e-03, -7.44107664e-02,\n",
       "         3.76621517e-03, -1.45346448e-02, -1.22303227e-02,\n",
       "         2.84120180e-02,  6.28826246e-02,  4.37136330e-02,\n",
       "        -6.14459999e-02, -1.06230192e-01,  1.78123768e-02,\n",
       "        -3.37967090e-02,  2.01632828e-03,  1.67074725e-02,\n",
       "        -3.75810638e-02, -4.84041199e-02, -7.51789585e-02,\n",
       "        -6.10047318e-02, -5.79281934e-02, -2.47239843e-02,\n",
       "         4.31620628e-02, -8.70272294e-02, -5.67504130e-02,\n",
       "        -2.19935328e-02,  1.82027817e-02, -1.32512420e-01,\n",
       "         1.03340089e-01, -3.35974433e-02, -3.83252017e-02,\n",
       "         1.10762641e-02,  3.32236476e-02,  5.45114221e-04,\n",
       "        -1.52475946e-03, -4.07349542e-02,  6.49712905e-02,\n",
       "         2.62073819e-02, -3.32238153e-03,  3.13417874e-02,\n",
       "         6.15439899e-02,  9.24238376e-03,  4.85207066e-02,\n",
       "         6.53000474e-02, -2.42113993e-02,  3.33439633e-02,\n",
       "        -1.15218256e-02,  3.61083634e-02, -2.47451849e-02,\n",
       "         9.32046473e-02,  1.24236979e-02, -3.87737304e-02,\n",
       "        -4.37212503e-03,  3.78066413e-02, -2.44230218e-02,\n",
       "         6.67042211e-02, -4.06884549e-33,  1.18474588e-02,\n",
       "         5.27630858e-02,  6.73422143e-02,  1.35243461e-01,\n",
       "        -7.24640712e-02, -2.00878214e-02, -6.15164749e-02,\n",
       "         5.17847873e-02, -7.19672022e-03, -5.64295687e-02,\n",
       "        -2.18632296e-02, -1.76993310e-02, -1.18928859e-02,\n",
       "         3.99232246e-02, -7.43981451e-02,  3.79174426e-02,\n",
       "         1.89733915e-02, -1.10472133e-02,  2.55543869e-02,\n",
       "         3.36065963e-02, -6.67783394e-02,  3.17902816e-03,\n",
       "         3.82825509e-02,  1.50313657e-02,  1.74447522e-02,\n",
       "        -8.67634341e-02,  1.79436654e-02, -1.42424941e-01,\n",
       "         1.13277752e-02,  1.36324018e-02,  1.93426665e-02,\n",
       "        -1.46427210e-02,  6.68290034e-02,  4.76813689e-02,\n",
       "         2.66219936e-02, -2.59897718e-03,  1.35117006e-02,\n",
       "        -5.57803735e-02, -9.89003293e-03,  1.22833187e-02,\n",
       "         1.95276383e-02,  2.77608484e-02,  4.91379946e-03,\n",
       "         1.55065889e-02, -1.41975880e-02,  8.29301775e-03,\n",
       "        -3.22636188e-05, -3.23153287e-02,  2.27162000e-02,\n",
       "        -2.98944302e-02, -5.57413064e-02, -5.09705842e-02,\n",
       "        -6.87262714e-02,  9.80660692e-02,  5.30590012e-04,\n",
       "        -1.66234840e-02, -3.88583988e-02, -7.57092312e-02,\n",
       "        -4.14310805e-02,  3.29610780e-02,  1.14089309e-03,\n",
       "         5.68122827e-02,  1.14543019e-02, -5.92341721e-02,\n",
       "         4.02424447e-02, -7.55605102e-02,  4.91744466e-02,\n",
       "         1.93551723e-02,  3.40012610e-02, -1.45767182e-02,\n",
       "        -2.42926124e-02, -2.90492680e-02, -2.24637128e-02,\n",
       "         8.43334198e-02,  3.60024311e-02,  3.28447740e-03,\n",
       "         4.40691710e-02,  1.55527564e-02,  2.11747177e-02,\n",
       "        -5.01319347e-03,  1.17475186e-02, -4.20711227e-02,\n",
       "        -4.45603691e-02,  2.09343340e-02, -1.65930763e-02,\n",
       "         5.76634258e-02,  1.13839889e-02, -2.22416576e-02,\n",
       "        -2.19303518e-04, -4.42099087e-02, -3.74920703e-02,\n",
       "         2.39547081e-02,  1.84025038e-02, -2.57729199e-02,\n",
       "        -8.83234590e-02,  9.12660518e-34,  4.00161408e-02,\n",
       "        -5.58587573e-02, -3.42601649e-02, -5.25298826e-02,\n",
       "        -6.35702396e-04, -6.71572983e-03,  8.86185467e-03,\n",
       "         1.45023137e-01, -5.67445979e-02,  3.64536680e-02,\n",
       "        -6.94624558e-02, -6.46757835e-04,  5.90759367e-02,\n",
       "        -8.00201446e-02, -2.56607160e-02,  6.61303625e-02,\n",
       "         5.20242155e-02,  3.84303220e-02, -2.28258427e-02,\n",
       "         1.84355918e-02, -1.15261339e-01,  7.90534168e-02,\n",
       "        -9.21678916e-02,  3.08563598e-02, -2.99386610e-03,\n",
       "        -2.49920487e-02,  6.91617280e-02,  3.47623415e-02,\n",
       "        -7.34142773e-03,  6.69505149e-02, -6.42858725e-03,\n",
       "         3.25687937e-02, -5.29738553e-02,  1.75865572e-02,\n",
       "        -1.18839070e-02,  1.42287454e-02,  5.33434190e-03,\n",
       "        -3.50199565e-02, -3.02178171e-02, -4.90778610e-02,\n",
       "        -5.19961305e-02,  7.41059482e-02,  1.74877699e-02,\n",
       "         8.72995555e-02,  3.47634666e-02, -7.14618191e-02,\n",
       "        -9.15337205e-02,  1.94268655e-02, -1.61214527e-02,\n",
       "         4.59749140e-02, -6.94549158e-02, -7.02847466e-02,\n",
       "         7.43664131e-02, -2.64815092e-02, -1.91672016e-02,\n",
       "        -5.03236875e-02,  1.45751471e-02, -9.07903686e-02,\n",
       "        -2.41304538e-03,  6.77732006e-02, -1.61461402e-02,\n",
       "         2.19974220e-02,  2.72151548e-02,  1.13358118e-01,\n",
       "         6.62972257e-02, -5.49132191e-02, -5.29469103e-02,\n",
       "        -1.53030492e-02, -4.99815913e-03, -5.24642952e-02,\n",
       "         5.36414348e-02,  1.05609549e-02, -7.28253275e-02,\n",
       "         2.34852303e-02, -3.47564556e-02,  9.94363893e-03,\n",
       "         2.99804863e-02,  1.83499884e-02, -7.10901693e-02,\n",
       "         5.76229990e-02,  7.77544966e-03,  8.39705989e-02,\n",
       "         2.59057619e-02,  6.69155782e-03, -1.03902174e-02,\n",
       "         1.25762984e-01,  6.51663840e-02,  5.69327176e-02,\n",
       "         2.27914825e-02, -6.55956194e-02,  4.10894342e-02,\n",
       "         6.12723567e-02,  8.58416036e-02, -4.23770435e-02,\n",
       "        -1.74245033e-02, -2.22022756e-08,  5.77608049e-02,\n",
       "         6.41876012e-02,  1.64189227e-02,  2.68576629e-02,\n",
       "        -9.36556384e-02,  1.33999074e-02, -3.08581162e-03,\n",
       "        -7.43566221e-03, -4.75459173e-02, -3.78998485e-03,\n",
       "         3.05445101e-02,  9.72516164e-02, -2.01172661e-02,\n",
       "         1.90830454e-02,  1.18082479e-01,  2.41396818e-02,\n",
       "         6.21197633e-02,  8.82297084e-02, -4.63807657e-02,\n",
       "        -1.92414038e-02,  2.01475490e-02, -6.08725986e-03,\n",
       "        -3.52107957e-02, -2.92854309e-02,  5.89764975e-02,\n",
       "         4.01515746e-03,  4.56686057e-02,  3.01795006e-02,\n",
       "        -3.72817218e-02, -1.21423462e-02,  3.40913758e-02,\n",
       "         1.00615196e-01,  2.17457814e-03,  6.34289011e-02,\n",
       "        -7.80880824e-02, -1.15330110e-03, -2.84188185e-02,\n",
       "         5.64842746e-02,  4.05195989e-02, -8.79651457e-02,\n",
       "        -1.15169920e-01, -1.81961351e-03,  1.04093358e-01,\n",
       "        -5.04286103e-02, -7.01284781e-02,  7.06049651e-02,\n",
       "         6.88981207e-04, -1.20984279e-01,  6.92926534e-03,\n",
       "        -2.12796945e-02,  7.17018694e-02,  8.69055931e-03,\n",
       "         1.01947062e-01,  3.58529203e-02,  9.99313965e-02,\n",
       "         7.11579397e-02, -6.99573546e-04,  5.01913652e-02,\n",
       "        -7.24009564e-03, -1.31712696e-02,  1.03299335e-01,\n",
       "        -2.74289330e-03, -5.09568602e-02,  4.57751639e-02]], dtype=float32)"
      ]
     },
     "execution_count": 8,
     "metadata": {},
     "output_type": "execute_result"
    }
   ],
   "source": [
    "model.encode(['Hello , my name is Sparsh!'])"
   ]
  },
  {
   "cell_type": "code",
   "execution_count": 9,
   "id": "bdfcde6e-5c8b-4c34-bf86-c2a2c391e6e5",
   "metadata": {},
   "outputs": [
    {
     "data": {
      "text/plain": [
       "array([[-7.44925812e-02, -4.41480204e-02,  3.80302854e-02,\n",
       "         2.05286909e-02, -1.13463990e-01, -6.95442706e-02,\n",
       "         1.69507444e-01, -3.63051295e-02, -7.68723851e-03,\n",
       "        -6.16054721e-02, -2.39743255e-02, -1.05872452e-01,\n",
       "         3.13828215e-02,  8.78152996e-03, -1.22019164e-02,\n",
       "        -1.35242119e-02,  2.44078431e-02, -3.13176885e-02,\n",
       "        -3.17441486e-02, -3.18399630e-02, -1.07249275e-01,\n",
       "         3.93209746e-03, -5.48754409e-02, -1.78767238e-02,\n",
       "        -5.17549999e-02, -4.39605005e-02, -2.94698961e-02,\n",
       "         9.81617793e-02, -4.32574674e-02, -1.03994153e-01,\n",
       "         7.36738443e-02, -9.25068930e-03, -4.16767172e-04,\n",
       "         5.53891994e-02,  6.86842725e-02,  6.19356968e-02,\n",
       "        -4.92506959e-02,  1.02947857e-02, -9.28898063e-03,\n",
       "         5.86766265e-02, -4.09057960e-02, -8.76082927e-02,\n",
       "        -4.43565920e-02, -5.69377206e-02,  2.67411396e-02,\n",
       "         7.51686469e-02,  6.89053116e-03,  3.55312862e-02,\n",
       "         8.81954208e-02,  5.77825606e-02, -1.05716459e-01,\n",
       "        -6.31133839e-02,  2.04371717e-02,  4.29986753e-02,\n",
       "         8.14824104e-02, -3.03530749e-02,  7.38063315e-03,\n",
       "         2.69358847e-02, -3.03153936e-02, -1.44756790e-02,\n",
       "        -5.67618720e-02,  1.15544060e-02, -1.05896510e-01,\n",
       "         2.91013792e-02, -3.99888083e-02, -5.59265278e-02,\n",
       "         1.32923806e-02, -3.53378952e-02,  3.39384004e-02,\n",
       "         3.46711352e-02, -1.83167460e-03, -3.74373570e-02,\n",
       "         9.26604436e-04,  1.64122339e-02, -8.55839103e-02,\n",
       "         5.40620787e-03, -9.86973662e-03,  3.09885596e-03,\n",
       "         1.96853243e-02,  4.63330261e-02,  3.44035514e-02,\n",
       "        -4.09950316e-02, -1.39707923e-01,  1.84632570e-03,\n",
       "        -4.85976078e-02,  4.67021428e-02,  3.52492705e-02,\n",
       "        -3.86913046e-02, -5.60158975e-02, -5.80490865e-02,\n",
       "        -4.38184105e-02, -7.83080906e-02,  1.77464467e-02,\n",
       "         2.81989723e-02, -3.68587524e-02, -7.13207871e-02,\n",
       "        -6.69730408e-03,  1.58214197e-02, -1.02763176e-01,\n",
       "         1.23768218e-01, -1.07451491e-02, -5.41410521e-02,\n",
       "        -4.90434049e-03,  5.79441339e-02, -1.62615569e-03,\n",
       "         2.19749706e-03, -3.57970782e-02,  5.16306497e-02,\n",
       "         2.96144467e-02, -9.03474819e-03,  1.61234085e-02,\n",
       "         7.04871193e-02, -1.76439732e-02, -9.60333552e-03,\n",
       "         5.60683459e-02, -1.95241701e-02,  7.86542799e-03,\n",
       "        -2.45118160e-02,  5.42019717e-02, -3.42626497e-02,\n",
       "         5.63431904e-02,  9.37207695e-03, -7.85147771e-02,\n",
       "         1.75132267e-02, -1.60199590e-02, -2.81375088e-02,\n",
       "         8.00844058e-02, -4.26690674e-33,  3.56356315e-02,\n",
       "         5.37480377e-02,  7.20767006e-02,  9.04155150e-02,\n",
       "        -5.70124947e-02, -1.04728201e-02, -6.59829527e-02,\n",
       "         5.93089163e-02, -1.59243532e-02, -8.35916623e-02,\n",
       "        -4.34108004e-02, -3.87444608e-02,  3.15742870e-03,\n",
       "         3.17115569e-03, -6.51641339e-02, -4.03157249e-03,\n",
       "         9.28388312e-02, -3.44465044e-03,  3.79908190e-04,\n",
       "         3.02152503e-02, -6.04235940e-02, -2.34699948e-03,\n",
       "         2.42130700e-02,  4.24144277e-03,  1.87135804e-02,\n",
       "        -7.67540336e-02,  1.24099050e-02, -1.62328348e-01,\n",
       "         1.95421074e-02,  2.95754876e-02,  3.54867093e-02,\n",
       "        -1.62858311e-02,  3.37604024e-02,  1.20352041e-02,\n",
       "         3.66163999e-02, -1.74734723e-02,  3.79081666e-02,\n",
       "        -6.11039400e-02, -2.55297925e-02,  1.73223438e-03,\n",
       "        -8.30290560e-03,  3.32086049e-02,  4.96607972e-03,\n",
       "         1.05631901e-02, -5.54138236e-03,  3.43961753e-02,\n",
       "         2.14180518e-02, -5.58009967e-02,  6.20219251e-03,\n",
       "        -2.28538122e-02, -2.99537778e-02, -8.78406391e-02,\n",
       "        -6.63778707e-02,  6.29020035e-02, -2.42887288e-02,\n",
       "        -2.12890618e-02, -6.30835667e-02, -4.74835038e-02,\n",
       "        -2.60950457e-02,  3.15117314e-02, -4.47947718e-03,\n",
       "         4.15499210e-02, -4.24864906e-04, -1.87905412e-02,\n",
       "         4.80265282e-02, -1.01911880e-01,  4.84836251e-02,\n",
       "         2.36633383e-02,  6.71074763e-02, -2.50143651e-02,\n",
       "        -2.89421938e-02, -3.37714814e-02, -2.01365817e-02,\n",
       "         1.61047235e-01,  5.52314967e-02,  1.97069701e-02,\n",
       "         9.35885757e-02,  1.97675489e-02,  3.84403369e-03,\n",
       "         3.79990856e-03, -4.59012529e-03, -2.46848147e-02,\n",
       "        -6.44755140e-02,  2.44215112e-02, -2.49589533e-02,\n",
       "         2.56481208e-02,  1.89641062e-02, -2.03593951e-02,\n",
       "        -5.43132704e-03, -2.87112016e-02, -4.44353670e-02,\n",
       "         4.65211384e-02,  4.58541326e-02, -1.91093292e-02,\n",
       "        -9.86011177e-02,  1.57051353e-33,  2.53556930e-02,\n",
       "        -6.02478758e-02, -6.27136454e-02, -4.78683366e-03,\n",
       "        -8.21615476e-03, -1.63276084e-02,  1.88058671e-02,\n",
       "         1.48034319e-01, -4.36183214e-02,  3.64321433e-02,\n",
       "        -1.50861675e-02, -1.76421423e-02,  6.67821690e-02,\n",
       "        -8.56089443e-02,  4.50848341e-02,  4.94189337e-02,\n",
       "         3.98399867e-02,  2.63342243e-02, -5.11712246e-02,\n",
       "        -3.87141737e-03, -1.18472502e-01,  8.76513347e-02,\n",
       "        -8.01486522e-02, -1.75705249e-03,  1.50813386e-02,\n",
       "        -1.65039133e-02,  6.15323819e-02,  5.63428514e-02,\n",
       "        -3.06002400e-03,  7.33916909e-02,  1.23922806e-02,\n",
       "         1.35660628e-02, -3.32366303e-02,  6.30461797e-02,\n",
       "        -2.75230892e-02,  3.85418069e-03,  4.38393094e-02,\n",
       "        -1.29221966e-02, -3.63652334e-02, -6.82906508e-02,\n",
       "        -5.73881865e-02,  5.31705990e-02, -3.60896364e-02,\n",
       "         7.95724243e-02,  4.95468527e-02, -8.62054080e-02,\n",
       "        -5.84752671e-02,  1.75819229e-02,  5.83537184e-02,\n",
       "         4.94532585e-02, -1.68093052e-02, -5.68000786e-02,\n",
       "         6.39656112e-02, -1.42074209e-02,  9.83099546e-03,\n",
       "        -6.71227276e-02, -3.23498212e-02, -8.18613246e-02,\n",
       "        -4.00359817e-02,  6.08136989e-02,  2.21698545e-02,\n",
       "         8.37095547e-03,  2.46138889e-02,  7.38895535e-02,\n",
       "         6.33910820e-02, -5.82980625e-02, -5.09550422e-02,\n",
       "        -3.88798378e-02,  1.38771050e-02, -6.35084361e-02,\n",
       "         5.78140169e-02, -9.63390991e-03, -3.88404913e-02,\n",
       "         2.07173009e-03, -2.10325308e-02,  9.80379246e-03,\n",
       "         1.77960228e-02,  3.53765748e-02, -7.25204423e-02,\n",
       "         4.50199433e-02,  2.49579921e-02,  5.45348376e-02,\n",
       "         1.07898731e-02, -2.01491155e-02,  2.27974076e-02,\n",
       "         6.17801733e-02,  8.09906423e-02,  8.41600820e-02,\n",
       "         3.64474542e-02, -6.66197836e-02,  6.07342124e-02,\n",
       "         7.10899532e-02,  8.22741687e-02, -5.72265275e-02,\n",
       "        -3.66540402e-02, -1.87993194e-08,  8.21022689e-02,\n",
       "        -6.78971317e-03,  1.34118861e-02,  8.31823796e-03,\n",
       "        -9.81592983e-02,  2.02683769e-02, -3.82867339e-03,\n",
       "        -3.99442948e-03, -2.55347863e-02,  1.65292043e-02,\n",
       "         1.98248159e-02,  6.11346997e-02, -7.00603519e-03,\n",
       "         5.97677752e-03,  6.31933063e-02, -1.76543258e-02,\n",
       "         7.48694986e-02,  9.93053168e-02, -4.87053283e-02,\n",
       "        -1.40247112e-02,  5.83849140e-02,  1.38689457e-02,\n",
       "        -1.92520190e-02,  1.37364604e-02,  3.53781320e-02,\n",
       "         1.36910491e-02,  8.08896199e-02,  1.07392538e-02,\n",
       "        -5.50300144e-02, -1.58643462e-02,  2.76856944e-02,\n",
       "         1.02127299e-01,  9.28848330e-03,  4.18510996e-02,\n",
       "        -5.75024672e-02, -2.59103894e-04, -2.13524960e-02,\n",
       "         4.97100390e-02,  1.22436285e-02, -3.31748202e-02,\n",
       "        -6.09678477e-02, -1.48480553e-02,  1.30377129e-01,\n",
       "        -2.19751820e-02, -5.14783226e-02,  5.35526052e-02,\n",
       "         2.77547017e-02, -1.32278830e-01,  4.07405710e-03,\n",
       "        -6.50704978e-03,  3.56773771e-02,  8.92251206e-04,\n",
       "         8.54026452e-02,  3.96517031e-02,  8.41761380e-02,\n",
       "         5.02956249e-02, -2.76841000e-02,  5.36828712e-02,\n",
       "        -6.78557483e-03, -2.96068490e-02,  8.86265859e-02,\n",
       "        -3.23309842e-03, -6.27665520e-02,  3.04488838e-02]], dtype=float32)"
      ]
     },
     "execution_count": 9,
     "metadata": {},
     "output_type": "execute_result"
    }
   ],
   "source": [
    "model.encode(['Hello , my name is Sparsh?'])"
   ]
  },
  {
   "attachments": {
    "ba18a2bf-5115-4bf1-935d-d5c1c4a21573.png": {
     "image/png": "[encoded data removed]"
    }
   },
   "cell_type": "markdown",
   "id": "377ff65a-d29b-48ee-a741-c57dc5c16354",
   "metadata": {},
   "source": [
    "## **Comparing two sentences together**\n",
    "\n",
    "when we take cosine similarty between two embeddings , that cosine similarity should be high for sentences that are similar and low for sentences that are different\n",
    "\n",
    "- The L2 norm (Euclidean norm) measures the magnitude (length) of each embedding vector.\n",
    "- This is necessary for normalization when calculating cosine similarity.\n",
    "![image.png](attachment:ba18a2bf-5115-4bf1-935d-d5c1c4a21573.png)"
   ]
  },
  {
   "cell_type": "code",
   "execution_count": 10,
   "id": "d30f2706-c528-44e1-bf74-e5bf6968f9ca",
   "metadata": {},
   "outputs": [],
   "source": [
    "# defining a function to compute the cosine similarity between two embedding vectors\n",
    "def cosine_score(text):\n",
    "    # encoding the text\n",
    "    embeddings = model.encode(text)\n",
    "\n",
    "    # calculating the L2 norm of the embedding vector\n",
    "    norm1 = np.linalg.norm(embeddings[0])\n",
    "    norm2 = np.linalg.norm(embeddings[1])\n",
    "\n",
    "    # computing the cosine similarity\n",
    "    cosine_similarity_score = (np.dot(embeddings[0],embeddings[1]))/(norm1 * norm2)\n",
    "    return cosine_similarity_score"
   ]
  },
  {
   "cell_type": "code",
   "execution_count": 11,
   "id": "23afe3cf-1bc4-4e31-ab04-94a6d0defd5a",
   "metadata": {},
   "outputs": [
    {
     "data": {
      "text/plain": [
       "0.9586375"
      ]
     },
     "execution_count": 11,
     "metadata": {},
     "output_type": "execute_result"
    }
   ],
   "source": [
    "sentence1 = 'The cat is on the mat'\n",
    "sentence2 = 'The mat has cat on it'\n",
    "cosine_score([sentence1 , sentence2])"
   ]
  },
  {
   "cell_type": "markdown",
   "id": "7e7215f0-2e7d-4095-8f34-1573a2bc86e8",
   "metadata": {},
   "source": [
    "- The **high cosine similarity score** indicates that the sentences are **semantically similar**."
   ]
  },
  {
   "cell_type": "code",
   "execution_count": 12,
   "id": "899c97c4-53da-49f7-848f-db9353108b50",
   "metadata": {},
   "outputs": [
    {
     "data": {
      "text/plain": [
       "0.1266436"
      ]
     },
     "execution_count": 12,
     "metadata": {},
     "output_type": "execute_result"
    }
   ],
   "source": [
    "sentence_1 = \"Roses are red, violets are blue.\"\n",
    "sentence_2 = \"The Earth orbits the Sun in our solar system.\"\n",
    "\n",
    "cosine_score([sentence_1, sentence_2])"
   ]
  },
  {
   "cell_type": "markdown",
   "id": "eb352d9d-a264-4440-83a4-19dd6332aa89",
   "metadata": {},
   "source": [
    "- The **low cosine similarity score** indicates that the sentences are **semantically dissimilar**."
   ]
  },
  {
   "cell_type": "code",
   "execution_count": 13,
   "id": "fefa868d-3eae-405e-9ba2-f7db81a50028",
   "metadata": {},
   "outputs": [
    {
     "data": {
      "text/plain": [
       "-0.06156106"
      ]
     },
     "execution_count": 13,
     "metadata": {},
     "output_type": "execute_result"
    }
   ],
   "source": [
    "sentence_1 = \"My name is Mark and I love football.\"\n",
    "sentence_2 = \"A strange object was found in the Mariana Trench.\"\n",
    "\n",
    "cosine_score([sentence_1, sentence_2])"
   ]
  },
  {
   "cell_type": "markdown",
   "id": "8934c657-b11b-4106-aa9b-e24aa15afa1b",
   "metadata": {},
   "source": [
    "### **Encoding the dataset**"
   ]
  },
  {
   "cell_type": "code",
   "execution_count": 14,
   "id": "af378b09-b34d-44e0-883f-4f035c8a788d",
   "metadata": {},
   "outputs": [],
   "source": [
    "# setting the device to GPU if available, else CPU\n",
    "device = torch.device(\"cuda\" if torch.cuda.is_available() else \"cpu\")"
   ]
  },
  {
   "cell_type": "code",
   "execution_count": 15,
   "id": "70eb318f-2818-4c74-880e-726db5bc4e56",
   "metadata": {},
   "outputs": [
    {
     "name": "stderr",
     "output_type": "stream",
     "text": [
      "Batches: 100%|███████████████████████████████████████████████████████████████████████| 312/312 [08:45<00:00,  1.68s/it]\n"
     ]
    }
   ],
   "source": [
    "# encoding the dataset\n",
    "embedding_matrix = model.encode(data['review'], device = device , show_progress_bar = True)"
   ]
  },
  {
   "cell_type": "code",
   "execution_count": 16,
   "id": "9ebdb828-af9f-4e37-ae10-3888f1a97ca7",
   "metadata": {},
   "outputs": [
    {
     "data": {
      "text/plain": [
       "(9982, 384)"
      ]
     },
     "execution_count": 16,
     "metadata": {},
     "output_type": "execute_result"
    }
   ],
   "source": [
    "embedding_matrix.shape"
   ]
  },
  {
   "cell_type": "code",
   "execution_count": 17,
   "id": "1ec079e5-d0f3-452f-8137-e65f0ff82469",
   "metadata": {},
   "outputs": [
    {
     "data": {
      "text/plain": [
       "array([-7.45214745e-02,  2.59452104e-03, -3.34989615e-02, -4.84161824e-02,\n",
       "       -3.84774990e-02,  6.37951866e-02,  5.54272998e-03,  4.06937003e-02,\n",
       "        6.29823580e-02, -3.84879708e-02, -1.27104828e-02, -2.12660544e-02,\n",
       "        6.79039136e-02,  2.27347692e-03,  1.14879536e-03,  2.30603665e-02,\n",
       "        8.18004608e-02,  4.14929129e-02, -2.12946460e-02, -2.29654387e-02,\n",
       "        2.09019836e-02, -2.93924734e-02,  9.37751904e-02, -2.93005202e-02,\n",
       "       -6.34454042e-02, -1.70642342e-02,  1.12413324e-01, -2.24412587e-02,\n",
       "       -6.00714013e-02,  1.55951865e-02,  2.08700392e-02,  7.55285248e-02,\n",
       "       -6.04215041e-02,  2.33690208e-03, -1.79053452e-02,  7.56649598e-02,\n",
       "        9.78598651e-03,  2.67772209e-02, -1.30182691e-02, -1.76513642e-02,\n",
       "        3.84344757e-02,  3.93548571e-02,  5.56520447e-02, -1.35075143e-02,\n",
       "        5.03627807e-02, -7.22083896e-02, -2.37328839e-02, -1.08479746e-01,\n",
       "        2.67260838e-02, -5.05364873e-02, -8.09638724e-02,  5.58139794e-02,\n",
       "       -1.44368142e-03, -7.50080943e-02, -1.86011493e-02, -5.47644645e-02,\n",
       "        2.40130816e-03, -6.56609088e-02, -1.57776987e-03, -5.13053127e-02,\n",
       "        4.24675569e-02,  1.24977771e-02,  3.03734727e-02, -4.31725644e-02,\n",
       "        1.69863522e-01, -5.91773167e-02,  1.09683368e-02, -4.13615536e-03,\n",
       "        1.90326497e-02,  3.27673703e-02, -1.74825266e-02, -4.24246723e-03,\n",
       "       -1.18965609e-02, -1.12545555e-02, -1.35535017e-01, -5.91632351e-02,\n",
       "       -4.86993715e-02, -2.06445232e-02, -4.66582701e-02, -2.93372385e-02,\n",
       "        5.35680354e-02, -4.49753739e-02,  4.02754433e-02,  7.52902180e-02,\n",
       "       -2.83816438e-02,  5.67046809e-04,  9.82695073e-02, -3.98135409e-02,\n",
       "        2.84449141e-02,  3.35594825e-02,  3.70947382e-04,  6.21097535e-02,\n",
       "       -1.75978206e-02,  2.96227131e-02,  1.21944956e-03, -5.14747053e-02,\n",
       "       -1.20611750e-02,  2.31993906e-02,  8.41173530e-03,  4.62805443e-02,\n",
       "       -9.47896799e-04,  2.83235833e-02, -9.87824500e-02, -1.84193160e-02,\n",
       "       -7.69352838e-02, -5.76768816e-02,  2.56712781e-03, -2.24995818e-02,\n",
       "       -1.18198618e-01, -3.87264881e-04, -4.28822041e-02,  3.99927311e-02,\n",
       "       -1.52597940e-02,  5.46159036e-03,  6.50655106e-03,  4.59715724e-02,\n",
       "        2.82265805e-02, -3.77430208e-02, -2.79253889e-02,  4.89264913e-02,\n",
       "        4.79411706e-03,  1.72763392e-02, -2.72311550e-02,  3.94721627e-02,\n",
       "       -2.99998168e-02, -6.42662793e-02, -4.65389416e-02, -3.44397368e-34,\n",
       "       -4.68499176e-02,  2.30200514e-02,  5.13120443e-02,  2.44535133e-02,\n",
       "       -4.66843136e-02, -3.17994133e-03, -1.84494313e-02, -3.93818095e-02,\n",
       "       -1.11614235e-01, -3.57934535e-02, -7.52374576e-03, -2.65548453e-02,\n",
       "        2.66345143e-02, -7.35913366e-02,  2.80248048e-03, -2.70048268e-02,\n",
       "       -6.03325255e-02, -2.63035414e-03,  5.46147674e-02,  4.81367148e-02,\n",
       "       -2.85404399e-02,  9.82047617e-02,  4.84466329e-02, -6.76932558e-02,\n",
       "       -3.89881842e-02, -1.23545621e-02,  9.79317576e-02,  6.18987493e-02,\n",
       "       -6.45640269e-02,  6.75177481e-03,  2.29470320e-02,  8.16867128e-03,\n",
       "       -6.34375447e-03, -8.11848119e-02, -1.31553244e-02,  3.39890458e-03,\n",
       "       -3.97094078e-02,  6.60672504e-03, -1.23986893e-03, -1.11219576e-02,\n",
       "       -1.19866155e-01,  6.33650795e-02, -7.87730068e-02, -2.82131862e-02,\n",
       "       -8.56174603e-02,  7.29379877e-02,  3.46341021e-02,  5.46152890e-02,\n",
       "        1.12102730e-02,  3.70725594e-03,  3.11104227e-02, -9.95513890e-03,\n",
       "       -2.25871289e-03, -8.32357816e-03, -1.75078195e-02,  7.26102814e-02,\n",
       "        4.69530299e-02, -1.10137261e-01,  8.48324038e-03,  4.70015919e-03,\n",
       "        6.81316778e-02, -1.17789604e-01, -1.10001743e-01, -3.86777073e-02,\n",
       "        3.27793695e-02,  5.55588268e-02,  4.72016297e-02, -2.56568985e-03,\n",
       "        4.34626825e-02, -2.83930600e-02, -8.29303563e-02, -4.58010361e-02,\n",
       "        2.53863260e-02,  1.89096425e-02,  4.66612680e-03,  3.16306017e-02,\n",
       "       -1.91792175e-02, -4.77072001e-02, -3.18027511e-02,  3.48259695e-02,\n",
       "       -1.23740230e-02,  5.15529960e-02,  7.23270848e-02, -7.51696602e-02,\n",
       "        4.16436903e-02, -1.77795291e-02, -1.73195582e-02, -7.54682124e-02,\n",
       "       -3.55638601e-02,  1.03576116e-01,  7.12379515e-02, -4.80757207e-02,\n",
       "        2.55937614e-02,  2.28034347e-04,  6.84713945e-02, -8.33089101e-34,\n",
       "        1.00445390e-01, -3.31204385e-02, -1.23413719e-01, -4.13725292e-03,\n",
       "        6.68171793e-02, -6.05845526e-02, -4.71384525e-02,  7.16500580e-02,\n",
       "        7.20914379e-02,  1.08054958e-01,  6.67361692e-02, -3.14741917e-02,\n",
       "        5.40413223e-02, -4.63000592e-03, -1.45037938e-02, -3.12064048e-02,\n",
       "        7.37283900e-02,  5.42307086e-02, -1.56188710e-02,  8.14922992e-03,\n",
       "       -9.31255985e-03,  6.53174426e-03,  2.11309381e-02, -9.05622318e-02,\n",
       "       -4.28670570e-02,  9.42888707e-02, -6.64273053e-02,  6.56627417e-02,\n",
       "       -6.59789741e-02,  1.74303458e-03,  4.85081971e-02, -7.01492950e-02,\n",
       "       -7.34671578e-02, -4.75249579e-03, -1.62463877e-02,  6.09612018e-02,\n",
       "        1.57027468e-02, -6.65899217e-02,  5.08277714e-02, -2.57422999e-02,\n",
       "       -9.67878476e-02,  6.10751174e-02,  8.00791749e-05, -1.81789324e-02,\n",
       "        1.07716350e-02, -6.27536001e-03,  5.28145730e-02,  1.18322425e-01,\n",
       "       -7.33214691e-02, -9.70001593e-02,  2.07605045e-02,  2.93948930e-02,\n",
       "        3.29126827e-02, -5.20757632e-03,  4.35489565e-02, -1.39832692e-02,\n",
       "        1.19714765e-02, -8.00055414e-02,  3.13914493e-02, -4.23003081e-03,\n",
       "       -2.09677895e-03, -2.67934073e-02, -2.61178147e-02, -3.01240757e-02,\n",
       "       -7.16448426e-02,  9.28214379e-03, -1.52167853e-03, -2.85997875e-02,\n",
       "        9.04291123e-02, -1.14347003e-02, -1.15975209e-01, -4.29887101e-02,\n",
       "       -9.47360918e-02,  3.97099555e-02,  5.90212439e-05,  1.30619551e-03,\n",
       "       -9.70323309e-02,  2.37558912e-02,  6.93547353e-02, -1.86284333e-02,\n",
       "        1.25473673e-02, -2.40813242e-03, -1.72560085e-02, -5.92554137e-02,\n",
       "        5.83292581e-02,  5.86894490e-02, -9.85059538e-04,  1.57320295e-02,\n",
       "        8.48785192e-02,  2.48304307e-02,  2.71231290e-02,  2.78779888e-03,\n",
       "        9.52487253e-03, -1.01950560e-02,  2.67678387e-02, -5.04007076e-08,\n",
       "       -3.58131379e-02, -5.40039651e-02, -3.56034189e-02, -2.88604386e-02,\n",
       "       -5.03851622e-02, -4.94079366e-02, -4.45835590e-02,  7.36921504e-02,\n",
       "        5.00193723e-02,  7.53235891e-02, -1.23589626e-02,  1.34427194e-02,\n",
       "       -1.19669642e-03, -6.37440523e-03, -9.79816243e-02,  4.28100377e-02,\n",
       "        1.16737232e-01,  1.97322946e-02,  2.85814190e-03, -5.45213446e-02,\n",
       "        1.49359955e-02, -3.45909526e-03,  7.50039071e-02, -2.88809147e-02,\n",
       "        3.17717995e-03,  8.29552934e-02, -6.77421540e-02, -3.58595848e-02,\n",
       "        1.95417590e-02,  3.51765193e-02,  2.64125783e-02, -5.93771366e-03,\n",
       "        8.71573295e-03, -5.49240112e-02, -1.53859500e-02,  8.21521878e-02,\n",
       "        8.80081356e-02, -1.10115558e-02,  1.11550920e-01,  2.46681366e-03,\n",
       "        4.16809656e-02,  4.36829962e-02,  5.61200455e-03,  7.99998194e-02,\n",
       "        5.38657941e-02,  1.54945971e-02,  3.64430845e-02, -2.98969150e-02,\n",
       "       -6.80099130e-02,  7.50316028e-03,  2.37547457e-02,  1.60432048e-02,\n",
       "       -4.36823722e-03,  3.40580265e-03,  2.26815771e-02,  2.87564415e-02,\n",
       "       -1.33200034e-01,  5.05160540e-02, -7.51480013e-02,  8.26664716e-02,\n",
       "        1.13284431e-01,  6.66861515e-03,  4.49150242e-03, -1.74330976e-02],\n",
       "      dtype=float32)"
      ]
     },
     "execution_count": 17,
     "metadata": {},
     "output_type": "execute_result"
    }
   ],
   "source": [
    "embedding_matrix[0,:]"
   ]
  },
  {
   "cell_type": "markdown",
   "id": "8b933cf3-f3b3-4316-9866-d0720ff13552",
   "metadata": {},
   "source": [
    "### **Querying from the dataset**\n",
    "\n",
    "**Now, let's search for similar reviews in our dataset.**"
   ]
  },
  {
   "cell_type": "code",
   "execution_count": 18,
   "id": "1b7e5745-f9e8-4faf-aa7d-d214dba6acbb",
   "metadata": {},
   "outputs": [],
   "source": [
    "# defining a function to find the top k similar sentences for a given query\n",
    "def top_k_similar_sentences(embedding_matrix , query_text , k):\n",
    "    # encoding the query text\n",
    "    query_embedding = model.encode(query_text)\n",
    "\n",
    "    # calculating the cosine similarity between the query vector and all other encoded vectors of our dataset\n",
    "    score_vector = np.dot(embedding_matrix , query_embedding)\n",
    "\n",
    "    # sorting the scores in descending order and choosing the first k\n",
    "    top_k_indices = np.argsort(score_vector)[::-1][:k]\n",
    "\n",
    "    # returning the corresponding reviews\n",
    "    return data.loc[list(top_k_indices) , 'review']"
   ]
  },
  {
   "cell_type": "code",
   "execution_count": 19,
   "id": "66171db3-55fe-4436-a63e-a56c35818ba5",
   "metadata": {},
   "outputs": [
    {
     "name": "stdout",
     "output_type": "stream",
     "text": [
      "This completely forgotten slasher flick is one of the best horror movies ever made.Very dark at times it reminds me a little famous thriller \"Deliverance\".Director Jeff Lieberman creates terrific atmosphere of dread and despair.All actors are decent and the climax is really exciting and memorable.So if you are searching for something creepy,try to find this little treasure.My personal rating:10 out of 10.P.S This one is even more chilling than \"Halloween\".\n",
      "\n",
      "I remember watching this film as a kid and I was in complete awe of it, I couldn't take my eyes of the television. This movie has it all for horror fans! This movie had no funny moments expect a couple of one liners by stooge(who was my favorite character in the film) kevin tenney directed this jewel and did a wonderful job with a low budget, I thought the end was awesome the only thing that could stop them was by surviving the night they were unstoppable killing machines! the effects done by steve johnson we're excellent I would recommend this movie to anyone who has a love for low budget horror movies because as the old saying goes they don't make them like this anymore. The sequels were pretty good too, but not as good as good as the original. This is a must have in any horror collection, buy it if you can find it you won't be disappointed\n",
      "\n",
      "Worst horror film ever but funniest film ever rolled in one you have got to see this film it is so cheap it is unbeliaveble but you have to see it really!!!! P.s watch the carrot\n",
      "\n",
      "I rented this movie roughly 4-5 years ago and was instantly disappointed.<br /><br />I wanted to see a b-movie slasher flick, but ended up with a fecal matter for my eyes. The acting was similar to watching grass dry. I've seen better acting in a softcore film...<br /><br />The idea that a crazy killer comes out of nowhere baffled me. How was this a horror movie?<br /><br />this movie's production value, was laughable at best. There were no scares. It seemed like a high school student got a new video camera for Christmas. The plot was all over the place, if existent. If you are bored looking for a bad horror movie to rent, skip this one. There are much better b-movies out there.\n",
      "\n",
      "This movie is not the scariest of all time, but it is a great example of a campy eighties horror flick -- low budget, no stars, lots of inventive death scenes, and enough nudity to keep the teenagers in their seats. The premise is interesting and fun and the three evil kids play their parts well. A nice starting point for \"Just Say\" Julie Brown exposing her talents early in her career. This film won't be seen by many, but for fans of 80's horror it's a must.\n",
      "\n"
     ]
    }
   ],
   "source": [
    "query_text = 'horror movie'\n",
    "\n",
    "# displaying the top 5 similar sentences\n",
    "top_k_reviews = top_k_similar_sentences(embedding_matrix,query_text,5)\n",
    "\n",
    "for i in top_k_reviews:\n",
    "    print(i, end=\"\\n\\n\")"
   ]
  },
  {
   "cell_type": "code",
   "execution_count": 20,
   "id": "cf16a8dc-af1f-41ba-9b9e-81f26e4a2c36",
   "metadata": {},
   "outputs": [
    {
     "name": "stdout",
     "output_type": "stream",
     "text": [
      "i thought this movie was really really great because, in India cinemas nowadays, all you see is skin, music, and bad acting...in this movie, you can see some tradition, ethnicity, and at least some decency...although some parts were a little dramatic, guess what? that is what Indian cinema is all about! after watching this movie, at least you don't get a headache from all the loud overrated music, or any violence, its just the truth, it teaches about love, and of course caring for the person you love throughout life...i think it was an amazing movie...Kids can watch it without a doubt, and adults will enjoy the simplicity that used to be India's sure profoundness...until all these rap hits, miniskirts, and skin showing became a part of it.\n",
      "\n",
      "This movie is simply awesome.It was a very sensitive issue and movie was superb.This movie did not create any controversy in India (as far as i know) and its publicity was also kept low.Initially i thought that this movie would simply be a waste of time since most of the Indian directors and producers used to change the theme even though its very sensitive and adds a love story in original story and spoils the whole thing...most of the Indian viewers would agree on this topic if they remember Ashoka, Mangal Pandey,LOC etc..<br /><br />There have been so many movies in India which would have become milestone or mega hits if the love story part would not be unnecessarily added.<br /><br />But its treatment is pretty similar to Pinjar movie (also a must watch).<br /><br />If it counts then i would like to thank Anil Kapoor ( producer ) and Firoz Abbas Khan ( the director) for making such a great movie..\n",
      "\n",
      "It takes guts to make a movie on Gandhi in India ,in which he is not shown as a man who could do no wrong.This movie shows how a Mahatma failed to be a decent father(at least in the eyes of his son). <br /><br />The performances are terrific ,the cinematography fantastic, the direction fabulous,but the film drags.If the intention was to make this movie without any box-office expectations,which i assume is the case here,then its a brilliant attempt,but if the makers were expecting this to be a commercial success,then the film's fate was doomed the day they chose this subject..<br /><br />20 yrs from now,this movie will be remembered for the brilliant portrayal of Harilal by Akshaye Khanna.He deserves an Oscar nomination for this one..And honestly,his is not the only performance worth applauding, Shefali Chhaya is terrific too..<br /><br />Watch the scene where Harilal hears about his father's death.No dialogues,No screaming,but a speechless shot by Khanna.Its one of the finest scenes ever shot in the history of Cinema<br /><br />Gandhi,My Father is not at all exciting cinema but yes,its excellent cinema and a must watch.Brilliant Attempt..\n",
      "\n",
      "This is not your typical Indian film. There is some great sense of humanity, and the characters are pretty realistic. There is great dynamism in the interpersonal relationships, and there is a sense of guilt, grief, passion, passivity among the many characters. While seeing this, one gets a feel for the heavy burden of the 5000 years of layers and layers of history of social existence of one of the oldest civilizations. The final scene of an elephant walking away in the rural area was a great footnote to such a ancient civilization, and yet, human relations are still preserved and nurtured. Saw it on DVD, the two interviews with the director and the main actress are very interesting. Was surprised to learn that the movie has not done well (or not being shown) in India (... but maybe not too surprised). The artistic patrimony of rural societies is being slowly lost and its inheritance not picked up by younger generations, as some of the older musicians in the movie are no longer living today. Great film.\n",
      "\n",
      "This movie is an amazing comedy.. the script is too funny.. if u watch it more than once you will enjoy it more. Though the comedy at times is silly but it really makes u laugh!! Salman Khan and Aamir Khan have given justice to their roles. After 1994 i have not come across any hindi movie which was as funny as this.\n",
      "\n"
     ]
    }
   ],
   "source": [
    "query_text = 'Indian movie'\n",
    "\n",
    "# displaying the top 5 similar sentences\n",
    "top_k_reviews = top_k_similar_sentences(embedding_matrix,query_text,5)\n",
    "\n",
    "for i in top_k_reviews:\n",
    "    print(i, end=\"\\n\\n\")"
   ]
  },
  {
   "cell_type": "code",
   "execution_count": 21,
   "id": "e0e56088-b52c-441e-b9dc-c0d6d252746b",
   "metadata": {},
   "outputs": [
    {
     "name": "stdout",
     "output_type": "stream",
     "text": [
      "I think the filmographic lineage may run like this. Pay attention, please, because I had to look this up. In 1967 Peter Yates, an ex auto racer, directs the English caper movie \"Robbery,\" the most thrilling part of which is a car chase through the streets of London, down alleys where there are crowds of children playing and all that. It's a success.<br /><br />A year later, Yates directs \"Bullet\", starring Steve McCool, I mean McQueen, featuring another even more spectacular car chase up and down the San Francisco Hills, with dumbfoundingly authentic engine sounds that seem to include double clutching, full race cams, no mufflers, twelve-cylinder engines under forty-foot hoods, supercharged, superdupercharged, and all five-thousand horsepower running at full tilt. Lots of shots of McQueen's gum-chewing visage scowling with concentration as he tries to bump another car off the highway, though a passenger in the other vehicle totes a shotgun. The chase is staged by Philip D'Antoni. Bill Hopkins drives the criminal vehicle.<br /><br />A year or two later, sensing a good thing, Bill Friedkin directs \"The French Connection,\" featuring a chase between a commandeered cop car(Gene Hackman) and an elevated train in New York City. Lots of shots of Hackman's cursing face as he wrestles the battered car through the streets. The chase is staged by Philip D'Antoni. Academy Awards follow.<br /><br />Sensing a good thing, a year or two more brings us \"The Seven Ups,\" featuring a chase between a car driven by Roy Scheider, with lots of shots of Scheider's cursing face as he tries to bump the other car, which is driven by Bill Hopkins, off the road, although the criminal car, to be sure, carries a shotgun-toting passenger. No hills in New York City, just bumps, but they are still sharp enough to elevate the cars a few feet. The pursued car screeches around a corner and dashes down a street on which a dozen children are playing. Shots of the screaming kids as they scatter off the pavement and allows the car to zoom through. But once is not enough. The children immediately run back into the street and must repeat the retreat for the pursuing cop car carrying Scheider.<br /><br />I once witnessed a pursuit at high speed on the streets of Philadelphia. Both the criminal and the cops drove through the streets at about 25 miles an hour, coming to rolling stops at each Stop sign and red light -- very dull stuff compared to this movie.<br /><br />Speaking of this movie, it's pretty good. \"Robbery\" and \"Bullet\" were cool. Everyone dressed neatly. But the New York movies are filthy. There's garbage all over the place and the subway cars are covered with graffiti. Shoot outs and beat ups take place in vacant lots surrounded by crumbling brick buildings, or in disposal dumps for industrial-sized freezers.<br /><br />The acting is pretty good too. Roy Scheider seems whippet sleek. The other actors have faces made for the camera, especially Richard Welsh. And the story is engaging, if not entirely unfamiliar. What's best about the film is the way it captures New York City in its almost total indifference to human depravity and nobility. At a funeral, the limo drivers stand around with their collars up, butts hanging out of their mouths, kicking their cold feet together, utterly bored at the ritual goings on. The film wants us to believe that The Seven Ups are an elite group of untouchable cops who stop at nothing to get the job done, and here it's a bit of a sell out. They always seems to be threatening to do something unethical and illegal -- beat hell out of a suspect or physically damage a hospitalized and helpless hood -- but they always manage to avoid doing it. (If they actually did it, their characters would become lifelike and ambiguous and we'd rather have our heroes and villains of a more Biblical nature.) Very enjoyable, even if you've seen it before, and you very well may have in one or another of its previous incarnations.\n",
      "\n",
      "Set in South Africa, a young black guy tries to land a part in a 'gangsta' movie. But with no knowledge of street life, he's told to find out what that life is really like or he won't get the part. He manages to work his way into a gang led by an old friend of his from school and his chances of appearing in the film decline as he commits crimes to be accepted. But for the gang's leader, the burgeoning disaster of his new friend's life suggests a golden opportunity to do something better with his own.<br /><br />While that may sound relatively interesting, it's anything but. The first half of it is incredibly meandering and tedious, while the \"hijacking\" only takes place towards the end with some very poorly executed low speed car chases. In those \"chases\", only two police cars are used, both of which are early 90's Nissan Sunny's. Not only would these be rather cheap to pick up (and I find it rather hard to believe they'd be using such mundane old cars in South Africa in the year 2000), but as far as I can remember, there's only 2 involved and none of them get a scratch once. The car chases are very badly shot, with distant and badly timed camera angles and minimal traffic on the roads, and they're all over in around 2 minutes at maximum as you're supposed to believe that a very small kid is actually a highly skilled driver who can easily evade the police despite the driving being pedestrian and utterly unexciting. This now leads me onto the characters and the acting, which are equally bad. The aforementioned kid who drives the car, looks about 13 years old and supposedly is extremely skilled at losing the incredibly inept police. Everybody else is equally unconvincing, so much that they even look bored at times themselves.<br /><br />At the closing scene of the movie, our main character (\"Sox Moraka\") is asked by the gang leader to steal a car from a car park. While having trouble opening it, the Police arrive and ask him what he's doing and he replies by telling him it's their car. After a brief argument they try to arrest him and he then holds the Police at gunpoint and jumps back in their car. After he's in, the Police return fire and in turn he gets wounded. After another pathetic chase sequence, they decide to abandon the car and set it alight to destroy any evidence. What follows here is one of the most downright laughable and hideously awful special effects I've ever seen. When the car \"explodes\", superimposed flames suddenly appear from every window with awful sound effects that aren't even in time. It's so badly done and so phony looking that it's hard to even put it into words, and really needs to be seen to be believed. If you watch it in slow motion it looks even funnier. I've seen better effects than this in murder reconstruction documentaries. The car is a Volkswagen Golf MK2 GTi. Something that wouldn't be worth a huge amount at all, and they seriously couldn't afford to destroy it with a real explosion? I'd love to know how large the budget for this movie was. It feels so cheap that I'm surprised it made it outside of South Africa, and even more surprised it made it to a DVD release.<br /><br />I know it's not a big budget Hollywood production. I know it's meant to depict gangs in impoverished townships of South Africa who steal cars from the middle class in and sell the parts on the black market, but with the laughable effects, poorly executed car chases, awful acting and ludicrous characters, any sense of reality is completely lost.<br /><br />Overall, I most certainly do NOT advise you to watch this. If you want to have a laugh and see one of the most poorly done, low budget messes of amovie ever created, then I'd recommend it for that, and only that.<br /><br />It is a wretched, poorly made, poorly edited, poorly paced and tedious piece of low budget drivel that fails on all counts. I've seen many South African movies, including lots of cheap NuImage/Nu-World action pictures, and despite their cheesiness, they're far better than this on all counts.\n",
      "\n"
     ]
    }
   ],
   "source": [
    "query_text = \"Action movie with lots of car chases\"\n",
    "\n",
    "# displaying the top 2 similar sentences\n",
    "top_k_reviews = top_k_similar_sentences(embedding_matrix,query_text,2)\n",
    "\n",
    "for i in top_k_reviews:\n",
    "    print(i, end=\"\\n\\n\")"
   ]
  },
  {
   "cell_type": "code",
   "execution_count": 22,
   "id": "45e49bc3-178c-4771-86f8-6d4dcb38b6c9",
   "metadata": {},
   "outputs": [
    {
     "name": "stdout",
     "output_type": "stream",
     "text": [
      "wonderful movie with good story great humour (some great one-liners) and a soundtrack to die for.<br /><br />i've seen it 3 times so far.<br /><br />the american audiences are going to love it.\n",
      "\n",
      "<br /><br />When I first heard about this back in 1997, over coffee with friends, I decided to check it out. The only problem was that it was on a small screen at one of my local cinema's.<br /><br />That didn't stop the enjoyment of seeing a simply great movie, with a top notch cast in Aidan Quinn, Donald Sutherland, and Ben Kingsley. The whole movie, kept me glued to my seat. <br /><br />I simply found no flaws in this great movie, I give it my highest recommendation to those who love thrillers. I am very proud to have this in my collection.<br /><br />10/10 ( I don't hand this out lightly).\n",
      "\n",
      "A great film in its genre, the direction, acting, most especially the casting of the film makes it even more powerful. A must see.\n",
      "\n"
     ]
    }
   ],
   "source": [
    "# one highly positive query\n",
    "query_text = \"Overall a great movie that ticks all the right boxes.\"\n",
    "\n",
    "# displaying the top 5 similar sentences\n",
    "top_k_reviews = top_k_similar_sentences(embedding_matrix,query_text,3)\n",
    "\n",
    "for i in top_k_reviews:\n",
    "    print(i, end=\"\\n\\n\")"
   ]
  },
  {
   "cell_type": "code",
   "execution_count": 23,
   "id": "24bbf400-8a5e-4353-a043-5ae0a1328fef",
   "metadata": {},
   "outputs": [
    {
     "name": "stdout",
     "output_type": "stream",
     "text": [
      "This movie turned out to be better than I had expected it to be. Some parts were pretty funny. It was nice to have a movie with a new plot.\n",
      "\n",
      "I didnt know what to expect . I only watched it on a rainy sunday afternoon on pay tv . Right from the start it drew me in . The music and settings and characters were excellent . I hadnt heard of any of the actors but they all were outstanding . A wonderful thriller .<br /><br />Now that ive read other comments on this movie referring to past versions and the book , i will be endeavouring to find out more on this great movie\n",
      "\n",
      "Considering the big name cast and lavish production I expected a lot more of this film. The acting for the most part is great, although the story they have to work with is mediocre at best. However the film still warrants watching because of the acting and the stars and some and up and coming young talent.\n",
      "\n"
     ]
    }
   ],
   "source": [
    "# one moderately positive query\n",
    "query_text = \"The movie wasn't great but it delivered as per the expectations.\"\n",
    "\n",
    "# displaying the top 5 similar sentences\n",
    "top_k_reviews = top_k_similar_sentences(embedding_matrix,query_text,3)\n",
    "\n",
    "for i in top_k_reviews:\n",
    "    print(i, end=\"\\n\\n\")"
   ]
  },
  {
   "cell_type": "code",
   "execution_count": 24,
   "id": "5b800564-4788-4d88-9b0f-b414958f46a1",
   "metadata": {},
   "outputs": [
    {
     "name": "stdout",
     "output_type": "stream",
     "text": [
      "The plot is tight. The acting is flawless. The directing, script, scenery, casting are all well done. I watch this movie frequently, though I don't know what it is about the whole thing that grabs me. See it and drop me a line if you can figure out why I like it so much.\n",
      "\n",
      "I read all of the other comments which made this movie out to be an excellent movie. I saw nothing of the excellence that was stated. I thought it was long and boring. I tried twice to watch it. The first time I fell asleep and the second time I made it to within six minutes of the end and gave up. I suppose that it was mainly my fault going in with great expectation, but I don't think that this would have completely ruined the movie for me. The movie was just bland. It had nothing that was spectacular or unique to it. The plot was not half bad, the action sequences were non-existent, the dialogue forced and the movie just went on forever. I would not recommend seeing this movie.\n",
      "\n",
      "i had gone to the movies expecting to see a great film based on all the word of mouth and terrific reviews. the minute the opening sequence started i knew i was in trouble. the music and credits were trying so hard to evoke emotion i wanted to puke. all i got from this film was clichéd characters, contrived dialog and an unemotional script. director/writer Paul haggis' has managed to get great reviews with his manipulative, self righteous writing, but it doesn't fool me. some performance were good. don Cheadle is always good. i think Terrance Howard is slightly over rated but he was decent. ludicrous was way too on the nose. he should stick to rapping. Brendan Fraser was fine. Jennifer Esposito left no impression what so ever. i find nothing interesting about her. Sandra bullock is always the same in every movie, she's just okay. Matt Dillon was very good and i enjoyed watching him work. Ryan Philippe was good as well. but as far as the script and the lousy directing- this is actually one of those movies that is so annoyingly bad i actually took the time to write about it. i would not recommend this film to anyone, what a waste of time.\n",
      "\n"
     ]
    }
   ],
   "source": [
    "# one moderately negative query\n",
    "query_text = \"The plot was confusing but the acting performances were okay. The movie was mediocre at best\"\n",
    "\n",
    "# displaying the top 5 similar sentences\n",
    "top_k_reviews = top_k_similar_sentences(embedding_matrix,query_text,3)\n",
    "\n",
    "for i in top_k_reviews:\n",
    "    print(i, end=\"\\n\\n\")"
   ]
  },
  {
   "cell_type": "markdown",
   "id": "e6aa0dfd-e219-4aa4-8458-2f9cb5471f23",
   "metadata": {},
   "source": [
    "**Important Note**\n",
    "1. It is important to note that we loaded a pre-trained model.\n",
    "2. As the model was not trained or fine-tuned on this data, the performance may not be excellent.\n",
    "3. As we are doing semantic search and not clustering, there may be reviews that fall in multiple categories."
   ]
  },
  {
   "cell_type": "markdown",
   "id": "80837dd5-ba06-41c1-9db0-b3fbd11e0919",
   "metadata": {},
   "source": [
    "# **Sentiment Analysis**"
   ]
  },
  {
   "cell_type": "code",
   "execution_count": 25,
   "id": "3f5bb0fd-5f17-493f-bc47-1023fe919395",
   "metadata": {},
   "outputs": [],
   "source": [
    "X = embedding_matrix\n",
    "y = data['sentiment']\n",
    "X_train , X_test , y_train , y_test = train_test_split(X,y , test_size = 0.25 , random_state = 42)"
   ]
  },
  {
   "cell_type": "markdown",
   "id": "64570fe9-b112-49a0-a7d6-3b8c007c93ab",
   "metadata": {},
   "source": [
    "## **1) Random Forest Model**"
   ]
  },
  {
   "cell_type": "code",
   "execution_count": 26,
   "id": "524fe37a-63b3-4381-9452-19a6d15f6780",
   "metadata": {},
   "outputs": [
    {
     "data": {
      "text/html": [
       "<style>#sk-container-id-1 {\n",
       "  /* Definition of color scheme common for light and dark mode */\n",
       "  --sklearn-color-text: black;\n",
       "  --sklearn-color-line: gray;\n",
       "  /* Definition of color scheme for unfitted estimators */\n",
       "  --sklearn-color-unfitted-level-0: #fff5e6;\n",
       "  --sklearn-color-unfitted-level-1: #f6e4d2;\n",
       "  --sklearn-color-unfitted-level-2: #ffe0b3;\n",
       "  --sklearn-color-unfitted-level-3: chocolate;\n",
       "  /* Definition of color scheme for fitted estimators */\n",
       "  --sklearn-color-fitted-level-0: #f0f8ff;\n",
       "  --sklearn-color-fitted-level-1: #d4ebff;\n",
       "  --sklearn-color-fitted-level-2: #b3dbfd;\n",
       "  --sklearn-color-fitted-level-3: cornflowerblue;\n",
       "\n",
       "  /* Specific color for light theme */\n",
       "  --sklearn-color-text-on-default-background: var(--sg-text-color, var(--theme-code-foreground, var(--jp-content-font-color1, black)));\n",
       "  --sklearn-color-background: var(--sg-background-color, var(--theme-background, var(--jp-layout-color0, white)));\n",
       "  --sklearn-color-border-box: var(--sg-text-color, var(--theme-code-foreground, var(--jp-content-font-color1, black)));\n",
       "  --sklearn-color-icon: #696969;\n",
       "\n",
       "  @media (prefers-color-scheme: dark) {\n",
       "    /* Redefinition of color scheme for dark theme */\n",
       "    --sklearn-color-text-on-default-background: var(--sg-text-color, var(--theme-code-foreground, var(--jp-content-font-color1, white)));\n",
       "    --sklearn-color-background: var(--sg-background-color, var(--theme-background, var(--jp-layout-color0, #111)));\n",
       "    --sklearn-color-border-box: var(--sg-text-color, var(--theme-code-foreground, var(--jp-content-font-color1, white)));\n",
       "    --sklearn-color-icon: #878787;\n",
       "  }\n",
       "}\n",
       "\n",
       "#sk-container-id-1 {\n",
       "  color: var(--sklearn-color-text);\n",
       "}\n",
       "\n",
       "#sk-container-id-1 pre {\n",
       "  padding: 0;\n",
       "}\n",
       "\n",
       "#sk-container-id-1 input.sk-hidden--visually {\n",
       "  border: 0;\n",
       "  clip: rect(1px 1px 1px 1px);\n",
       "  clip: rect(1px, 1px, 1px, 1px);\n",
       "  height: 1px;\n",
       "  margin: -1px;\n",
       "  overflow: hidden;\n",
       "  padding: 0;\n",
       "  position: absolute;\n",
       "  width: 1px;\n",
       "}\n",
       "\n",
       "#sk-container-id-1 div.sk-dashed-wrapped {\n",
       "  border: 1px dashed var(--sklearn-color-line);\n",
       "  margin: 0 0.4em 0.5em 0.4em;\n",
       "  box-sizing: border-box;\n",
       "  padding-bottom: 0.4em;\n",
       "  background-color: var(--sklearn-color-background);\n",
       "}\n",
       "\n",
       "#sk-container-id-1 div.sk-container {\n",
       "  /* jupyter's `normalize.less` sets `[hidden] { display: none; }`\n",
       "     but bootstrap.min.css set `[hidden] { display: none !important; }`\n",
       "     so we also need the `!important` here to be able to override the\n",
       "     default hidden behavior on the sphinx rendered scikit-learn.org.\n",
       "     See: https://github.com/scikit-learn/scikit-learn/issues/21755 */\n",
       "  display: inline-block !important;\n",
       "  position: relative;\n",
       "}\n",
       "\n",
       "#sk-container-id-1 div.sk-text-repr-fallback {\n",
       "  display: none;\n",
       "}\n",
       "\n",
       "div.sk-parallel-item,\n",
       "div.sk-serial,\n",
       "div.sk-item {\n",
       "  /* draw centered vertical line to link estimators */\n",
       "  background-image: linear-gradient(var(--sklearn-color-text-on-default-background), var(--sklearn-color-text-on-default-background));\n",
       "  background-size: 2px 100%;\n",
       "  background-repeat: no-repeat;\n",
       "  background-position: center center;\n",
       "}\n",
       "\n",
       "/* Parallel-specific style estimator block */\n",
       "\n",
       "#sk-container-id-1 div.sk-parallel-item::after {\n",
       "  content: \"\";\n",
       "  width: 100%;\n",
       "  border-bottom: 2px solid var(--sklearn-color-text-on-default-background);\n",
       "  flex-grow: 1;\n",
       "}\n",
       "\n",
       "#sk-container-id-1 div.sk-parallel {\n",
       "  display: flex;\n",
       "  align-items: stretch;\n",
       "  justify-content: center;\n",
       "  background-color: var(--sklearn-color-background);\n",
       "  position: relative;\n",
       "}\n",
       "\n",
       "#sk-container-id-1 div.sk-parallel-item {\n",
       "  display: flex;\n",
       "  flex-direction: column;\n",
       "}\n",
       "\n",
       "#sk-container-id-1 div.sk-parallel-item:first-child::after {\n",
       "  align-self: flex-end;\n",
       "  width: 50%;\n",
       "}\n",
       "\n",
       "#sk-container-id-1 div.sk-parallel-item:last-child::after {\n",
       "  align-self: flex-start;\n",
       "  width: 50%;\n",
       "}\n",
       "\n",
       "#sk-container-id-1 div.sk-parallel-item:only-child::after {\n",
       "  width: 0;\n",
       "}\n",
       "\n",
       "/* Serial-specific style estimator block */\n",
       "\n",
       "#sk-container-id-1 div.sk-serial {\n",
       "  display: flex;\n",
       "  flex-direction: column;\n",
       "  align-items: center;\n",
       "  background-color: var(--sklearn-color-background);\n",
       "  padding-right: 1em;\n",
       "  padding-left: 1em;\n",
       "}\n",
       "\n",
       "\n",
       "/* Toggleable style: style used for estimator/Pipeline/ColumnTransformer box that is\n",
       "clickable and can be expanded/collapsed.\n",
       "- Pipeline and ColumnTransformer use this feature and define the default style\n",
       "- Estimators will overwrite some part of the style using the `sk-estimator` class\n",
       "*/\n",
       "\n",
       "/* Pipeline and ColumnTransformer style (default) */\n",
       "\n",
       "#sk-container-id-1 div.sk-toggleable {\n",
       "  /* Default theme specific background. It is overwritten whether we have a\n",
       "  specific estimator or a Pipeline/ColumnTransformer */\n",
       "  background-color: var(--sklearn-color-background);\n",
       "}\n",
       "\n",
       "/* Toggleable label */\n",
       "#sk-container-id-1 label.sk-toggleable__label {\n",
       "  cursor: pointer;\n",
       "  display: block;\n",
       "  width: 100%;\n",
       "  margin-bottom: 0;\n",
       "  padding: 0.5em;\n",
       "  box-sizing: border-box;\n",
       "  text-align: center;\n",
       "}\n",
       "\n",
       "#sk-container-id-1 label.sk-toggleable__label-arrow:before {\n",
       "  /* Arrow on the left of the label */\n",
       "  content: \"▸\";\n",
       "  float: left;\n",
       "  margin-right: 0.25em;\n",
       "  color: var(--sklearn-color-icon);\n",
       "}\n",
       "\n",
       "#sk-container-id-1 label.sk-toggleable__label-arrow:hover:before {\n",
       "  color: var(--sklearn-color-text);\n",
       "}\n",
       "\n",
       "/* Toggleable content - dropdown */\n",
       "\n",
       "#sk-container-id-1 div.sk-toggleable__content {\n",
       "  max-height: 0;\n",
       "  max-width: 0;\n",
       "  overflow: hidden;\n",
       "  text-align: left;\n",
       "  /* unfitted */\n",
       "  background-color: var(--sklearn-color-unfitted-level-0);\n",
       "}\n",
       "\n",
       "#sk-container-id-1 div.sk-toggleable__content.fitted {\n",
       "  /* fitted */\n",
       "  background-color: var(--sklearn-color-fitted-level-0);\n",
       "}\n",
       "\n",
       "#sk-container-id-1 div.sk-toggleable__content pre {\n",
       "  margin: 0.2em;\n",
       "  border-radius: 0.25em;\n",
       "  color: var(--sklearn-color-text);\n",
       "  /* unfitted */\n",
       "  background-color: var(--sklearn-color-unfitted-level-0);\n",
       "}\n",
       "\n",
       "#sk-container-id-1 div.sk-toggleable__content.fitted pre {\n",
       "  /* unfitted */\n",
       "  background-color: var(--sklearn-color-fitted-level-0);\n",
       "}\n",
       "\n",
       "#sk-container-id-1 input.sk-toggleable__control:checked~div.sk-toggleable__content {\n",
       "  /* Expand drop-down */\n",
       "  max-height: 200px;\n",
       "  max-width: 100%;\n",
       "  overflow: auto;\n",
       "}\n",
       "\n",
       "#sk-container-id-1 input.sk-toggleable__control:checked~label.sk-toggleable__label-arrow:before {\n",
       "  content: \"▾\";\n",
       "}\n",
       "\n",
       "/* Pipeline/ColumnTransformer-specific style */\n",
       "\n",
       "#sk-container-id-1 div.sk-label input.sk-toggleable__control:checked~label.sk-toggleable__label {\n",
       "  color: var(--sklearn-color-text);\n",
       "  background-color: var(--sklearn-color-unfitted-level-2);\n",
       "}\n",
       "\n",
       "#sk-container-id-1 div.sk-label.fitted input.sk-toggleable__control:checked~label.sk-toggleable__label {\n",
       "  background-color: var(--sklearn-color-fitted-level-2);\n",
       "}\n",
       "\n",
       "/* Estimator-specific style */\n",
       "\n",
       "/* Colorize estimator box */\n",
       "#sk-container-id-1 div.sk-estimator input.sk-toggleable__control:checked~label.sk-toggleable__label {\n",
       "  /* unfitted */\n",
       "  background-color: var(--sklearn-color-unfitted-level-2);\n",
       "}\n",
       "\n",
       "#sk-container-id-1 div.sk-estimator.fitted input.sk-toggleable__control:checked~label.sk-toggleable__label {\n",
       "  /* fitted */\n",
       "  background-color: var(--sklearn-color-fitted-level-2);\n",
       "}\n",
       "\n",
       "#sk-container-id-1 div.sk-label label.sk-toggleable__label,\n",
       "#sk-container-id-1 div.sk-label label {\n",
       "  /* The background is the default theme color */\n",
       "  color: var(--sklearn-color-text-on-default-background);\n",
       "}\n",
       "\n",
       "/* On hover, darken the color of the background */\n",
       "#sk-container-id-1 div.sk-label:hover label.sk-toggleable__label {\n",
       "  color: var(--sklearn-color-text);\n",
       "  background-color: var(--sklearn-color-unfitted-level-2);\n",
       "}\n",
       "\n",
       "/* Label box, darken color on hover, fitted */\n",
       "#sk-container-id-1 div.sk-label.fitted:hover label.sk-toggleable__label.fitted {\n",
       "  color: var(--sklearn-color-text);\n",
       "  background-color: var(--sklearn-color-fitted-level-2);\n",
       "}\n",
       "\n",
       "/* Estimator label */\n",
       "\n",
       "#sk-container-id-1 div.sk-label label {\n",
       "  font-family: monospace;\n",
       "  font-weight: bold;\n",
       "  display: inline-block;\n",
       "  line-height: 1.2em;\n",
       "}\n",
       "\n",
       "#sk-container-id-1 div.sk-label-container {\n",
       "  text-align: center;\n",
       "}\n",
       "\n",
       "/* Estimator-specific */\n",
       "#sk-container-id-1 div.sk-estimator {\n",
       "  font-family: monospace;\n",
       "  border: 1px dotted var(--sklearn-color-border-box);\n",
       "  border-radius: 0.25em;\n",
       "  box-sizing: border-box;\n",
       "  margin-bottom: 0.5em;\n",
       "  /* unfitted */\n",
       "  background-color: var(--sklearn-color-unfitted-level-0);\n",
       "}\n",
       "\n",
       "#sk-container-id-1 div.sk-estimator.fitted {\n",
       "  /* fitted */\n",
       "  background-color: var(--sklearn-color-fitted-level-0);\n",
       "}\n",
       "\n",
       "/* on hover */\n",
       "#sk-container-id-1 div.sk-estimator:hover {\n",
       "  /* unfitted */\n",
       "  background-color: var(--sklearn-color-unfitted-level-2);\n",
       "}\n",
       "\n",
       "#sk-container-id-1 div.sk-estimator.fitted:hover {\n",
       "  /* fitted */\n",
       "  background-color: var(--sklearn-color-fitted-level-2);\n",
       "}\n",
       "\n",
       "/* Specification for estimator info (e.g. \"i\" and \"?\") */\n",
       "\n",
       "/* Common style for \"i\" and \"?\" */\n",
       "\n",
       ".sk-estimator-doc-link,\n",
       "a:link.sk-estimator-doc-link,\n",
       "a:visited.sk-estimator-doc-link {\n",
       "  float: right;\n",
       "  font-size: smaller;\n",
       "  line-height: 1em;\n",
       "  font-family: monospace;\n",
       "  background-color: var(--sklearn-color-background);\n",
       "  border-radius: 1em;\n",
       "  height: 1em;\n",
       "  width: 1em;\n",
       "  text-decoration: none !important;\n",
       "  margin-left: 1ex;\n",
       "  /* unfitted */\n",
       "  border: var(--sklearn-color-unfitted-level-1) 1pt solid;\n",
       "  color: var(--sklearn-color-unfitted-level-1);\n",
       "}\n",
       "\n",
       ".sk-estimator-doc-link.fitted,\n",
       "a:link.sk-estimator-doc-link.fitted,\n",
       "a:visited.sk-estimator-doc-link.fitted {\n",
       "  /* fitted */\n",
       "  border: var(--sklearn-color-fitted-level-1) 1pt solid;\n",
       "  color: var(--sklearn-color-fitted-level-1);\n",
       "}\n",
       "\n",
       "/* On hover */\n",
       "div.sk-estimator:hover .sk-estimator-doc-link:hover,\n",
       ".sk-estimator-doc-link:hover,\n",
       "div.sk-label-container:hover .sk-estimator-doc-link:hover,\n",
       ".sk-estimator-doc-link:hover {\n",
       "  /* unfitted */\n",
       "  background-color: var(--sklearn-color-unfitted-level-3);\n",
       "  color: var(--sklearn-color-background);\n",
       "  text-decoration: none;\n",
       "}\n",
       "\n",
       "div.sk-estimator.fitted:hover .sk-estimator-doc-link.fitted:hover,\n",
       ".sk-estimator-doc-link.fitted:hover,\n",
       "div.sk-label-container:hover .sk-estimator-doc-link.fitted:hover,\n",
       ".sk-estimator-doc-link.fitted:hover {\n",
       "  /* fitted */\n",
       "  background-color: var(--sklearn-color-fitted-level-3);\n",
       "  color: var(--sklearn-color-background);\n",
       "  text-decoration: none;\n",
       "}\n",
       "\n",
       "/* Span, style for the box shown on hovering the info icon */\n",
       ".sk-estimator-doc-link span {\n",
       "  display: none;\n",
       "  z-index: 9999;\n",
       "  position: relative;\n",
       "  font-weight: normal;\n",
       "  right: .2ex;\n",
       "  padding: .5ex;\n",
       "  margin: .5ex;\n",
       "  width: min-content;\n",
       "  min-width: 20ex;\n",
       "  max-width: 50ex;\n",
       "  color: var(--sklearn-color-text);\n",
       "  box-shadow: 2pt 2pt 4pt #999;\n",
       "  /* unfitted */\n",
       "  background: var(--sklearn-color-unfitted-level-0);\n",
       "  border: .5pt solid var(--sklearn-color-unfitted-level-3);\n",
       "}\n",
       "\n",
       ".sk-estimator-doc-link.fitted span {\n",
       "  /* fitted */\n",
       "  background: var(--sklearn-color-fitted-level-0);\n",
       "  border: var(--sklearn-color-fitted-level-3);\n",
       "}\n",
       "\n",
       ".sk-estimator-doc-link:hover span {\n",
       "  display: block;\n",
       "}\n",
       "\n",
       "/* \"?\"-specific style due to the `<a>` HTML tag */\n",
       "\n",
       "#sk-container-id-1 a.estimator_doc_link {\n",
       "  float: right;\n",
       "  font-size: 1rem;\n",
       "  line-height: 1em;\n",
       "  font-family: monospace;\n",
       "  background-color: var(--sklearn-color-background);\n",
       "  border-radius: 1rem;\n",
       "  height: 1rem;\n",
       "  width: 1rem;\n",
       "  text-decoration: none;\n",
       "  /* unfitted */\n",
       "  color: var(--sklearn-color-unfitted-level-1);\n",
       "  border: var(--sklearn-color-unfitted-level-1) 1pt solid;\n",
       "}\n",
       "\n",
       "#sk-container-id-1 a.estimator_doc_link.fitted {\n",
       "  /* fitted */\n",
       "  border: var(--sklearn-color-fitted-level-1) 1pt solid;\n",
       "  color: var(--sklearn-color-fitted-level-1);\n",
       "}\n",
       "\n",
       "/* On hover */\n",
       "#sk-container-id-1 a.estimator_doc_link:hover {\n",
       "  /* unfitted */\n",
       "  background-color: var(--sklearn-color-unfitted-level-3);\n",
       "  color: var(--sklearn-color-background);\n",
       "  text-decoration: none;\n",
       "}\n",
       "\n",
       "#sk-container-id-1 a.estimator_doc_link.fitted:hover {\n",
       "  /* fitted */\n",
       "  background-color: var(--sklearn-color-fitted-level-3);\n",
       "}\n",
       "</style><div id=\"sk-container-id-1\" class=\"sk-top-container\"><div class=\"sk-text-repr-fallback\"><pre>RandomForestClassifier(max_depth=7, random_state=42)</pre><b>In a Jupyter environment, please rerun this cell to show the HTML representation or trust the notebook. <br />On GitHub, the HTML representation is unable to render, please try loading this page with nbviewer.org.</b></div><div class=\"sk-container\" hidden><div class=\"sk-item\"><div class=\"sk-estimator fitted sk-toggleable\"><input class=\"sk-toggleable__control sk-hidden--visually\" id=\"sk-estimator-id-1\" type=\"checkbox\" checked><label for=\"sk-estimator-id-1\" class=\"sk-toggleable__label fitted sk-toggleable__label-arrow fitted\">&nbsp;&nbsp;RandomForestClassifier<a class=\"sk-estimator-doc-link fitted\" rel=\"noreferrer\" target=\"_blank\" href=\"https://scikit-learn.org/1.5/modules/generated/sklearn.ensemble.RandomForestClassifier.html\">?<span>Documentation for RandomForestClassifier</span></a><span class=\"sk-estimator-doc-link fitted\">i<span>Fitted</span></span></label><div class=\"sk-toggleable__content fitted\"><pre>RandomForestClassifier(max_depth=7, random_state=42)</pre></div> </div></div></div></div>"
      ],
      "text/plain": [
       "RandomForestClassifier(max_depth=7, random_state=42)"
      ]
     },
     "execution_count": 26,
     "metadata": {},
     "output_type": "execute_result"
    }
   ],
   "source": [
    "rf_transformer = RandomForestClassifier(n_estimators = 100, max_depth = 7, random_state = 42)\n",
    "rf_transformer.fit(X_train,y_train)"
   ]
  },
  {
   "cell_type": "code",
   "execution_count": 27,
   "id": "6ae2ba47-b087-4727-900a-850922c7c2e9",
   "metadata": {},
   "outputs": [],
   "source": [
    "# Predicting on train data\n",
    "y_pred_train = rf_transformer.predict(X_train)\n",
    "\n",
    "# Predicting on test data\n",
    "y_pred_test = rf_transformer.predict(X_test)"
   ]
  },
  {
   "cell_type": "code",
   "execution_count": 28,
   "id": "55aeaea0-33c1-4f80-92c4-a5028c5c0110",
   "metadata": {},
   "outputs": [],
   "source": [
    "def plot_confusion_matrix(actual, predicted):\n",
    "    cm = confusion_matrix(actual, predicted)\n",
    "\n",
    "    plt.figure(figsize = (5, 4))\n",
    "    label_list = [0, 1]\n",
    "    sns.heatmap(cm, annot = True,  fmt = '.0f', xticklabels = label_list, yticklabels = label_list)\n",
    "    plt.ylabel('Actual')\n",
    "    plt.xlabel('Predicted')\n",
    "    plt.show()"
   ]
  },
  {
   "cell_type": "code",
   "execution_count": 29,
   "id": "a25ab526-283d-4fbd-9326-45c408486999",
   "metadata": {},
   "outputs": [
    {
     "data": {
      "image/png": "[encoded data removed]",
      "text/plain": [
       "<Figure size 500x400 with 2 Axes>"
      ]
     },
     "metadata": {},
     "output_type": "display_data"
    }
   ],
   "source": [
    "plot_confusion_matrix(y_train , y_pred_train)"
   ]
  },
  {
   "cell_type": "code",
   "execution_count": 30,
   "id": "a2a782f6-0543-46d8-859e-fffbdeb97bf8",
   "metadata": {},
   "outputs": [
    {
     "data": {
      "image/png": "[encoded data removed]",
      "text/plain": [
       "<Figure size 500x400 with 2 Axes>"
      ]
     },
     "metadata": {},
     "output_type": "display_data"
    }
   ],
   "source": [
    "plot_confusion_matrix(y_test , y_pred_test)"
   ]
  },
  {
   "cell_type": "markdown",
   "id": "f0081bf2-d0b5-42e2-9ea7-8d86e18eb332",
   "metadata": {},
   "source": [
    "### **We can also use pre trained models**\n",
    "\n",
    "There are some pre trained models on hugging face for sentiment analysis \n",
    "\n",
    "There are lots of other models too to perform sentimental analysis \n",
    "\n",
    "you can choose to use any other model by including a model argument like:\n",
    "\n",
    "sentiment_hf = pipeline(model=\"finiteautomata/bertweet-base-sentiment-analysis\")\n",
    "\n",
    "or\n",
    "\n",
    "nlptown/bert-base-multilingual-uncased-sentiment\n",
    "\n",
    "many more models can be found at https://huggingface.co/models?pipeline_tag=text-classification&sort=trending&search=sentiment\n",
    "\n",
    "these are all text-classification models...sentiment analysis is a special case of text classification"
   ]
  },
  {
   "cell_type": "code",
   "execution_count": 31,
   "id": "6213b5e9-0e28-491f-b57a-3e3cf069ec6a",
   "metadata": {},
   "outputs": [
    {
     "name": "stderr",
     "output_type": "stream",
     "text": [
      "No model was supplied, defaulted to distilbert/distilbert-base-uncased-finetuned-sst-2-english and revision 714eb0f (https://huggingface.co/distilbert/distilbert-base-uncased-finetuned-sst-2-english).\n",
      "Using a pipeline without specifying a model name and revision in production is not recommended.\n",
      "Device set to use cpu\n"
     ]
    }
   ],
   "source": [
    "sentiment_hf = pipeline(\"sentiment-analysis\")"
   ]
  },
  {
   "cell_type": "code",
   "execution_count": 32,
   "id": "28e87cdc-d42f-4af9-b1f2-8e12ba7b3094",
   "metadata": {},
   "outputs": [
    {
     "data": {
      "text/plain": [
       "[{'label': 'POSITIVE', 'score': 0.9998766183853149},\n",
       " {'label': 'NEGATIVE', 'score': 0.9998003840446472},\n",
       " {'label': 'NEGATIVE', 'score': 0.6246474385261536}]"
      ]
     },
     "execution_count": 32,
     "metadata": {},
     "output_type": "execute_result"
    }
   ],
   "source": [
    "trial_data = [\"I love this movie\", \"This movie is not very good at all!\",'There is a cat outside.']\n",
    "sentiment_hf(trial_data)"
   ]
  },
  {
   "cell_type": "code",
   "execution_count": 33,
   "id": "1af5c2de-7130-4ea0-a5df-a4084b820afa",
   "metadata": {},
   "outputs": [],
   "source": [
    "hf_review_dict = sentiment_hf(data['review'].to_list() , truncation = True)"
   ]
  },
  {
   "cell_type": "code",
   "execution_count": 34,
   "id": "75c914e5-d585-4b29-8956-10319cc178cf",
   "metadata": {},
   "outputs": [],
   "source": [
    "hf_review_sent = [0]*len(data['review'])\n",
    "for movie in range(len(data['review'])):\n",
    "  if hf_review_dict[movie]['label']=='POSITIVE':\n",
    "    hf_review_sent[movie] = 1"
   ]
  },
  {
   "cell_type": "code",
   "execution_count": 35,
   "id": "ceb70e5f-3c37-42cc-aee6-a5cc1fae959a",
   "metadata": {},
   "outputs": [
    {
     "data": {
      "image/png": "[encoded data removed]",
      "text/plain": [
       "<Figure size 500x400 with 2 Axes>"
      ]
     },
     "metadata": {},
     "output_type": "display_data"
    }
   ],
   "source": [
    "plot_confusion_matrix(y, hf_review_sent)"
   ]
  },
  {
   "cell_type": "code",
   "execution_count": 36,
   "id": "45323e2d-78d6-4652-b2a4-9d5e3e6b5096",
   "metadata": {},
   "outputs": [],
   "source": [
    "X = data['review']\n",
    "y = data[\"sentiment\"]"
   ]
  },
  {
   "cell_type": "code",
   "execution_count": 37,
   "id": "b6f81c8a-41e3-4a29-8b7d-3f1e2f59da9f",
   "metadata": {},
   "outputs": [
    {
     "name": "stderr",
     "output_type": "stream",
     "text": [
      "You are using the default legacy behaviour of the <class 'transformers.models.t5.tokenization_t5.T5Tokenizer'>. This is expected, and simply means that the `legacy` (previous) behavior will be used so nothing changes for you. If you want to use the new behaviour, set `legacy=False`. This should only be set if you understand what it means, and thoroughly read the reason why this was added as explained in https://github.com/huggingface/transformers/pull/24565\n"
     ]
    }
   ],
   "source": [
    "# initializing a T5 tokenizer using the pre-trained model\n",
    "tokenizer = T5Tokenizer.from_pretrained(\"google/flan-t5-large\")"
   ]
  },
  {
   "cell_type": "code",
   "execution_count": null,
   "id": "12c4efdf-6059-4ec8-a15d-a23269751d87",
   "metadata": {},
   "outputs": [],
   "source": []
  },
  {
   "cell_type": "code",
   "execution_count": null,
   "id": "1d68b675-8f7c-4fb3-9ab3-e67916dcba93",
   "metadata": {},
   "outputs": [],
   "source": []
  }
 ],
 "metadata": {
  "kernelspec": {
   "display_name": "Python 3 (ipykernel)",
   "language": "python",
   "name": "python3"
  },
  "language_info": {
   "codemirror_mode": {
    "name": "ipython",
    "version": 3
   },
   "file_extension": ".py",
   "mimetype": "text/x-python",
   "name": "python",
   "nbconvert_exporter": "python",
   "pygments_lexer": "ipython3",
   "version": "3.12.5"
  }
 },
 "nbformat": 4,
 "nbformat_minor": 5
}
